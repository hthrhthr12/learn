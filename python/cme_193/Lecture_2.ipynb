{
 "cells": [
  {
   "cell_type": "markdown",
   "metadata": {},
   "source": [
    "# CME 193 - Lecture 2 - NumPy\n",
    "\n",
    "\n",
    "\n",
    "\n",
    "# Running Python\n",
    "\n",
    "At this point, you should have some way to run Python.  If you don't have Jupyter working yet, that's ok.  For this class, just open up an interactive python session to follow along.\n",
    "\n",
    "For most of you, this means you can open up a terminal, and type\n",
    "```bash\n",
    "python\n",
    "```\n",
    "and an interactive session should start.  Again, you may wish to use `ipython`, which can be invoked from the terminal in the same way.  If you don't have `ipython`, but want it, just open up a terminal and type\n",
    "```bash\n",
    "pip install ipython\n",
    "```\n",
    "or, if you prefer\n",
    "```bash\n",
    "conda install ipython\n",
    "```\n",
    "You now have `ipython`.  Aren't package managers great?\n",
    "\n",
    "## Scripts\n",
    "\n",
    "Often, python is run using scripts.  These are just text files, often with a `.py` extension that contain python code.  You can find an example [here](https://github.com/icme/cme193/blob/gh-pages/nb/2019_winter/lecture_2/test_script.py).  If you download it to your computer, you can run it from a terminal\n",
    "```bash\n",
    "cd <script location>\n",
    "python test_script.py\n",
    "```\n",
    "Note that this doesn't involve opening up Jupyter or an interactive python session.\n"
   ]
  },
  {
   "cell_type": "markdown",
   "metadata": {},
   "source": [
    "# 80/20 Rule\n",
    "\n",
    "The 80/20 rule ([Pareto Principle](https://en.wikipedia.org/wiki/Pareto_principle)) can be applied to programming. \n",
    "You don't need to know everything to be productive - for 80% of what you might want to do, you only need to know 20% of a language (yes, this is very heuristic).\n",
    "\n",
    "Last time, we saw a small bit of Python syntax (20% might be generous), but it will allow us to do most of what we want to do.  (We'll pick up a bit more throughout the class, and maybe get to 20% by the end).\n",
    "\n",
    "Today, we'll see a small bit of NumPy, but you'll see enough to implement a simple, but non-trivial, algortithm from linear algebra (power method).\n",
    "\n",
    "Why does this work?  A lot of any language (not just programming) is just figuring out the rules, and using them in new (and hopefully interesting) ways.  Once you see the SVD in numpy, you'll be able to figure out how to do LU or QR without too much trouble.\n",
    "\n",
    "\n",
    "# NumPy\n",
    "\n",
    "* Fundamental package for scientific computing with Python\n",
    "* N-dimensional array object\n",
    "* Linear algebra, Fourier transform, random number capabilities\n",
    "* Building block for other packages (e.g. Scipy, scikit-learn)\n",
    "* Open source, huge dev community!\n",
    "\n",
    "## Installation\n",
    "\n",
    "If you installed Python with `anaconda`, you should already have NumPy installed. To test if you have numpy already, go to your terminal or command prompt and type:\n",
    "\n",
    "```bash\n",
    "python -c 'import numpy'\n",
    "```\n",
    "If this does nothing, congrats! You have numpy. \n",
    "\n",
    "If the output looks something like this:\n",
    "\n",
    "```bash\n",
    "Traceback (most recent call last):\n",
    "  File \"<string>\", line 1, in <module>\n",
    "ImportError: No module named numpy\n",
    "```\n",
    "\n",
    "Then you don't...\n",
    "\n",
    "To install numpy, simply go to your terminal and type \n",
    "\n",
    "```bash\n",
    "pip install numpy\n",
    "```\n",
    "or, if you prefer\n",
    "```bash\n",
    "conda install numpy\n",
    "```\n",
    "\n",
    "## Why numpy?\n",
    "\n",
    "A very common question people ask is \"why can't I just use lists for math?\"\n",
    "\n",
    "Here are a few reasons why not:\n",
    "\n",
    "* Real vectors can be big!\n",
    "* How to handle $n$ dimensions? If we have lists, there is no restriction. \n",
    "* How about very sparse data?\n",
    "* *abstraction*! Something like $A = U\\Sigma V^T$ is common enough that we want to encapsulate that.\n",
    "* Speed\n",
    "\n",
    "## A quick lesson on `import`ing in Python\n",
    "\n",
    "There are 3 basic ways to import a package in Python.\n",
    "\n",
    "* `from numpy import linspace`\n",
    "* `import numpy as np`\n",
    "* `import numpy`\n",
    "\n",
    "Lets say you know that numpy has the function `linspace`. Here is how you access that function in each scenario:\n",
    "\n",
    "* `linspace(...)`\n",
    "* `np.linspace(...)`\n",
    "* `numpy.linspace(...)`"
   ]
  },
  {
   "cell_type": "code",
   "execution_count": 1,
   "metadata": {},
   "outputs": [],
   "source": [
    "# Time to get started The first thing to do is import numpy.\n",
    "import numpy as np"
   ]
  },
  {
   "cell_type": "code",
   "execution_count": 2,
   "metadata": {},
   "outputs": [
    {
     "name": "stdout",
     "output_type": "stream",
     "text": [
      "A =\n",
      " [[1 2 3]\n",
      " [4 5 6]]\n",
      "\n",
      "Af =\n",
      " [[1. 2. 3.]\n",
      " [4. 5. 6.]]\n"
     ]
    }
   ],
   "source": [
    "# basic array creation\n",
    "A = np.array([[1, 2, 3], [4, 5, 6]]) \n",
    "print('A =\\n', A)\n",
    "\n",
    "Af = np.array([[1, 2, 3], [4, 5, 6]], float)\n",
    "print('\\nAf =\\n', Af)"
   ]
  },
  {
   "cell_type": "code",
   "execution_count": 3,
   "metadata": {},
   "outputs": [
    {
     "name": "stdout",
     "output_type": "stream",
     "text": [
      "arange example = [0.  0.2 0.4 0.6 0.8]\n",
      "\n",
      "linspace example = [0.         2.0943951  4.1887902  6.28318531]\n",
      "\n",
      "zeros example =\n",
      " [[0. 0. 0.]\n",
      " [0. 0. 0.]]\n",
      "\n",
      "A.shape = (2, 3)\n"
     ]
    }
   ],
   "source": [
    "# -- numpy provides many ways to create arrays subject to mathematical constraints\n",
    "print('arange example =', np.arange(0, 1, 0.2))\n",
    "\n",
    "print('\\nlinspace example =', np.linspace(0, 2*np.pi, 4))\n",
    "\n",
    "# -- a matrix of zeros\n",
    "A = np.zeros((2,3))\n",
    "print('\\nzeros example =\\n', A)\n",
    "\n",
    "print('\\nA.shape =', A.shape) ## a tuple!"
   ]
  },
  {
   "cell_type": "code",
   "execution_count": 4,
   "metadata": {},
   "outputs": [
    {
     "name": "stdout",
     "output_type": "stream",
     "text": [
      "[[0.07987256 0.26762081 0.42753984]\n",
      " [0.48525938 0.13731312 0.88924978]]\n"
     ]
    }
   ],
   "source": [
    "# -- numpy provides routines for random array creation\n",
    "print(np.random.random((2,3)))"
   ]
  },
  {
   "cell_type": "code",
   "execution_count": 5,
   "metadata": {},
   "outputs": [
    {
     "name": "stdout",
     "output_type": "stream",
     "text": [
      "[[4.13407265 2.10927193]\n",
      " [3.21637441 1.96361339]]\n"
     ]
    }
   ],
   "source": [
    "# normal random variables with mean 1.0, and std deviation 2.0\n",
    "a = np.random.normal(loc=1.0, scale=2.0, size=(2,2))\n",
    "print(a)"
   ]
  },
  {
   "cell_type": "code",
   "execution_count": 6,
   "metadata": {},
   "outputs": [],
   "source": [
    "# save an array to a text file\n",
    "np.savetxt(\"a_out.txt\", a) # columns separated by spaces\n",
    "b = np.loadtxt(\"a_out.txt\")"
   ]
  },
  {
   "cell_type": "code",
   "execution_count": 7,
   "metadata": {},
   "outputs": [
    {
     "name": "stderr",
     "output_type": "stream",
     "text": [
      "'ls' is not recognized as an internal or external command,\n",
      "operable program or batch file.\n"
     ]
    }
   ],
   "source": [
    "!ls"
   ]
  },
  {
   "cell_type": "code",
   "execution_count": 8,
   "metadata": {},
   "outputs": [
    {
     "name": "stderr",
     "output_type": "stream",
     "text": [
      "'cat' is not recognized as an internal or external command,\n",
      "operable program or batch file.\n"
     ]
    }
   ],
   "source": [
    "!cat a_out.txt"
   ]
  },
  {
   "cell_type": "code",
   "execution_count": 9,
   "metadata": {},
   "outputs": [
    {
     "name": "stdout",
     "output_type": "stream",
     "text": [
      "a = \n",
      " [[4.13407265 2.10927193]\n",
      " [3.21637441 1.96361339]]\n",
      "b = \n",
      " [[4.13407265 2.10927193]\n",
      " [3.21637441 1.96361339]]\n"
     ]
    }
   ],
   "source": [
    "print('a = \\n', a)\n",
    "print('b = \\n', b)"
   ]
  },
  {
   "cell_type": "markdown",
   "metadata": {},
   "source": [
    "## reshaping an array\n",
    "\n",
    "Note the total number of elements must agree."
   ]
  },
  {
   "cell_type": "code",
   "execution_count": 10,
   "metadata": {},
   "outputs": [
    {
     "data": {
      "text/plain": [
       "(10, 10)"
      ]
     },
     "execution_count": 10,
     "metadata": {},
     "output_type": "execute_result"
    }
   ],
   "source": [
    "# reshape an array\n",
    "a = np.linspace(0,10,100).reshape(10,10)\n",
    "a.shape"
   ]
  },
  {
   "cell_type": "code",
   "execution_count": 11,
   "metadata": {},
   "outputs": [],
   "source": [
    "a = np.linspace(0,10,100).reshape(10,-1)\n",
    "np.reshape?\n"
   ]
  },
  {
   "cell_type": "code",
   "execution_count": 12,
   "metadata": {},
   "outputs": [
    {
     "data": {
      "text/plain": [
       "(100,)"
      ]
     },
     "execution_count": 12,
     "metadata": {},
     "output_type": "execute_result"
    }
   ],
   "source": [
    "a.flatten()\n",
    "a.flatten().shape"
   ]
  },
  {
   "cell_type": "markdown",
   "metadata": {},
   "source": [
    "## Indexing Arrays\n",
    "\n",
    "You can index arrays using a Matlab-like syntax.  Recall that Python indexing starts at 0\n",
    "\n",
    "`x[i,j]` returns value at $i$th row and $j$th column of $x$\n",
    "\n",
    "**slicing**\n",
    "\n",
    "`x[i,:]` returns entire $i$th row\n",
    "\n",
    "`x[:,j]` returns entire $j$th column"
   ]
  },
  {
   "cell_type": "code",
   "execution_count": 13,
   "metadata": {},
   "outputs": [
    {
     "name": "stdout",
     "output_type": "stream",
     "text": [
      "[[0 1 2]\n",
      " [3 4 5]\n",
      " [6 7 8]]\n",
      "[0 1 2]\n",
      "[0 3 6]\n",
      "[1 2]\n",
      "[1 2]\n",
      "[[3 4 5]\n",
      " [6 7 8]]\n",
      "[0 1 2 3 4 5 6 7 8 9]\n",
      "[0 2 4 6 8]\n",
      "[0 2 4 6 8]\n"
     ]
    }
   ],
   "source": [
    "x = np.arange(9) # 0, 1, ... , 9\n",
    "x = np.resize(x, (3,3))\n",
    "print(x)\n",
    "print(x[0,:])\n",
    "print(x[:,0])\n",
    "print(x[0,1:]) # indices 1 to last index\n",
    "print(x[0,-2:]) # last 2 indices\n",
    "print(x[1:3])\n",
    "y = np.arange(10)\n",
    "print(y)\n",
    "print(y[0:10:2]) # start:stop:stride\n",
    "print(y[::2]) # start:stop:stride"
   ]
  },
  {
   "cell_type": "markdown",
   "metadata": {},
   "source": [
    "# Memory/Copying\n",
    "\n",
    "Basic assignment is a \"view\" not a \"copy\""
   ]
  },
  {
   "cell_type": "code",
   "execution_count": 14,
   "metadata": {},
   "outputs": [
    {
     "data": {
      "text/plain": [
       "array([0, 1, 2, 3, 4, 5, 6, 7, 8, 9])"
      ]
     },
     "execution_count": 14,
     "metadata": {},
     "output_type": "execute_result"
    }
   ],
   "source": [
    "a = np.arange(10)\n",
    "a"
   ]
  },
  {
   "cell_type": "code",
   "execution_count": 15,
   "metadata": {},
   "outputs": [
    {
     "data": {
      "text/plain": [
       "array([0, 2, 4, 6, 8])"
      ]
     },
     "execution_count": 15,
     "metadata": {},
     "output_type": "execute_result"
    }
   ],
   "source": [
    "b = a[::2]\n",
    "b"
   ]
  },
  {
   "cell_type": "code",
   "execution_count": 16,
   "metadata": {},
   "outputs": [
    {
     "name": "stdout",
     "output_type": "stream",
     "text": [
      "2798840521712\n",
      "2798823704096\n"
     ]
    }
   ],
   "source": [
    "b[1] = 11\n",
    "print(id(b))\n",
    "print(id(a)) # note that a was changed!"
   ]
  },
  {
   "cell_type": "code",
   "execution_count": 17,
   "metadata": {},
   "outputs": [
    {
     "name": "stdout",
     "output_type": "stream",
     "text": [
      "[ 0 11  4  6  8]\n",
      "[0 1 2 3 4 5 6 7 8 9]\n"
     ]
    }
   ],
   "source": [
    "# if you want to have an actual copy:\n",
    "a = np.arange(10)\n",
    "b = a[::2].copy() # use the copy() method\n",
    "b[1] = 11\n",
    "print(b)\n",
    "print(a) # not changed!"
   ]
  },
  {
   "cell_type": "markdown",
   "metadata": {},
   "source": [
    "# Math Operators, Vectorization\n",
    "\n",
    "Vectorization refers to applying a function elementwise given array inputs.  Think Matlab's \"dot\" notation"
   ]
  },
  {
   "cell_type": "code",
   "execution_count": 18,
   "metadata": {},
   "outputs": [
    {
     "name": "stdout",
     "output_type": "stream",
     "text": [
      "a =  [0 1 2 3]\n",
      "b =  [2 3 2 4]\n",
      "a * b =  [ 0  3  4 12]\n",
      "a/b =  [0.         0.33333333 1.         0.75      ]\n"
     ]
    }
   ],
   "source": [
    "a = np.arange(4)\n",
    "print('a = ', a)\n",
    "b = np.array([2, 3, 2, 4])\n",
    "print('b = ', b)\n",
    "print('a * b = ', a * b)\n",
    "print('a/b = ', a/b)  "
   ]
  },
  {
   "cell_type": "code",
   "execution_count": 19,
   "metadata": {},
   "outputs": [
    {
     "name": "stdout",
     "output_type": "stream",
     "text": [
      "[0 1 2 3]\n",
      "[0 1 4 9]\n"
     ]
    }
   ],
   "source": [
    "x = np.arange(4)\n",
    "print(x)\n",
    "y = np.square(x)\n",
    "print(y)"
   ]
  },
  {
   "cell_type": "code",
   "execution_count": 20,
   "metadata": {},
   "outputs": [
    {
     "name": "stdout",
     "output_type": "stream",
     "text": [
      "[0 1 2 3]\n",
      "[ 2  3  6 11]\n"
     ]
    }
   ],
   "source": [
    "# you can also vectorize functions that are not already vectorized\n",
    "# note that some functions may automatically vectorize\n",
    "def f(x):\n",
    "    y = x*x\n",
    "    return y + 2\n",
    "\n",
    "x = np.arange(4)\n",
    "print(x)\n",
    "vf = np.vectorize(f)\n",
    "print(vf(x))"
   ]
  },
  {
   "cell_type": "markdown",
   "metadata": {},
   "source": [
    "# Array Broadcasting\n",
    "\n",
    "When operating on two arrays, numpy compares shapes. Two dimensions are compatible when:\n",
    "\n",
    "* They are of equal size\n",
    "* One of them is 1\n"
   ]
  },
  {
   "cell_type": "code",
   "execution_count": 21,
   "metadata": {},
   "outputs": [
    {
     "name": "stdout",
     "output_type": "stream",
     "text": [
      "[ 0 10 20 30]\n"
     ]
    },
    {
     "data": {
      "text/plain": [
       "array([10, 20, 30, 40])"
      ]
     },
     "execution_count": 21,
     "metadata": {},
     "output_type": "execute_result"
    }
   ],
   "source": [
    "a = np.array([0, 10, 20, 30])\n",
    "print(a)\n",
    "a+10"
   ]
  },
  {
   "cell_type": "code",
   "execution_count": 22,
   "metadata": {},
   "outputs": [
    {
     "name": "stdout",
     "output_type": "stream",
     "text": [
      "[[ 0 10]\n",
      " [20 30]]\n"
     ]
    },
    {
     "data": {
      "text/plain": [
       "array([[ 3, 15],\n",
       "       [23, 35]])"
      ]
     },
     "execution_count": 22,
     "metadata": {},
     "output_type": "execute_result"
    }
   ],
   "source": [
    "a = np.array([[0, 10], [20, 30]])\n",
    "print(a)\n",
    "a + np.array([3,5])"
   ]
  },
  {
   "cell_type": "code",
   "execution_count": 23,
   "metadata": {},
   "outputs": [
    {
     "name": "stdout",
     "output_type": "stream",
     "text": [
      "a shape:  (4, 1)\n",
      "b shape:  (1, 3)\n"
     ]
    },
    {
     "data": {
      "text/plain": [
       "array([[ 0,  1,  2],\n",
       "       [10, 11, 12],\n",
       "       [20, 21, 22],\n",
       "       [30, 31, 32]])"
      ]
     },
     "execution_count": 23,
     "metadata": {},
     "output_type": "execute_result"
    }
   ],
   "source": [
    "a = np.array([0, 10, 20, 30]).reshape(4,1)\n",
    "print(\"a shape: \", a.shape)\n",
    "b = np.array([0, 1, 2]).reshape(1,3)\n",
    "print(\"b shape: \", b.shape)\n",
    "a + b"
   ]
  },
  {
   "cell_type": "markdown",
   "metadata": {},
   "source": [
    "# Plotting with PyPlot\n",
    "\n",
    "PyPlot is part of the `matplotlib` package.  Again, if you don't have it, open up a terminal, and\n",
    "```bash\n",
    "conda install matplotlib\n",
    "```\n",
    "\n",
    "PyPlot is a popular plotting library (especially in conjunction with NumPy), and easy to use.\n",
    "\n",
    "Today, we'll just see some basics.  If you want to see some pretty pictures for inspiration, check out the [matplotlib gallery](https://matplotlib.org/gallery.html)"
   ]
  },
  {
   "cell_type": "code",
   "execution_count": 24,
   "metadata": {},
   "outputs": [],
   "source": [
    "import matplotlib.pyplot as plt"
   ]
  },
  {
   "cell_type": "code",
   "execution_count": 25,
   "metadata": {},
   "outputs": [
    {
     "data": {
      "image/png": "[encoded data removed]",
      "text/plain": [
       "<Figure size 432x288 with 1 Axes>"
      ]
     },
     "metadata": {
      "needs_background": "light"
     },
     "output_type": "display_data"
    }
   ],
   "source": [
    "x = np.linspace(-1,1,100)\n",
    "y = x**2\n",
    "\n",
    "plt.plot(x, y)\n",
    "\n",
    "plt.show() # if run from terminal, should pop open a window."
   ]
  },
  {
   "cell_type": "code",
   "execution_count": 26,
   "metadata": {},
   "outputs": [
    {
     "data": {
      "image/png": "[encoded data removed]",
      "text/plain": [
       "<Figure size 432x288 with 1 Axes>"
      ]
     },
     "metadata": {
      "needs_background": "light"
     },
     "output_type": "display_data"
    }
   ],
   "source": [
    "x = np.linspace(-1,1,100)\n",
    "x2 = x**2\n",
    "x3 = x**3\n",
    "x4 = x**4\n",
    "plt.plot(x, x2)\n",
    "plt.plot(x, x3)\n",
    "plt.plot(x, x4)\n",
    "plt.legend([\"$x^2$\", \"$x^3$\", \"$x^4$\"])\n",
    "plt.show() # if run from terminal, should pop open a window."
   ]
  },
  {
   "cell_type": "code",
   "execution_count": 27,
   "metadata": {},
   "outputs": [
    {
     "data": {
      "text/plain": [
       "[<matplotlib.lines.Line2D at 0x28ba928e908>]"
      ]
     },
     "execution_count": 27,
     "metadata": {},
     "output_type": "execute_result"
    },
    {
     "data": {
      "image/png": "[encoded data removed]",
      "text/plain": [
       "<Figure size 720x288 with 2 Axes>"
      ]
     },
     "metadata": {
      "needs_background": "light"
     },
     "output_type": "display_data"
    }
   ],
   "source": [
    "f,ax= plt.subplots(1,2, figsize=(10,4))\n",
    "\n",
    "ax[0].plot(x,x2)\n",
    "ax[1].plot(x,x3)"
   ]
  },
  {
   "cell_type": "markdown",
   "metadata": {},
   "source": [
    "You can do all sorts of formatting:"
   ]
  },
  {
   "cell_type": "code",
   "execution_count": 28,
   "metadata": {},
   "outputs": [
    {
     "data": {
      "image/png": "[encoded data removed]",
      "text/plain": [
       "<Figure size 360x288 with 1 Axes>"
      ]
     },
     "metadata": {
      "needs_background": "light"
     },
     "output_type": "display_data"
    }
   ],
   "source": [
    "theta = np.linspace(0,2*np.pi,100)\n",
    "x = np.cos(theta)\n",
    "y = np.sin(theta)\n",
    "\n",
    "plt.figure(figsize=(5,4))\n",
    "plt.scatter(x, y, c=y) # color by y value\n",
    "\n",
    "plt.xlim((-1.5, 1.5))\n",
    "plt.ylim((-1.5, 1.5))\n",
    "\n",
    "plt.xlabel('fancy $x$ label')\n",
    "plt.ylabel('tex $y = \\sum_i f_{i}(x)$ label')\n",
    "\n",
    "plt.title('plot title, including $f_i$')\n",
    "\n",
    "plt.savefig('color_circle.png')\n",
    "\n",
    "plt.show()"
   ]
  },
  {
   "cell_type": "markdown",
   "metadata": {},
   "source": [
    "# Exercise 1\n",
    "\n",
    "(5-10 min)\n",
    "\n",
    "**Numpy/Pyplot**\n",
    "1. Choose your favorite function $f:x \\to \\mathbb{R}$.\n",
    "    1. find the numpy version of your function, or write your own vectorized version\n",
    "    2. plot your function on a reasonable domain.\n",
    "    \n",
    "2. Add some Gaussian random noise to points on a circle, and generate a scatter plot."
   ]
  },
  {
   "cell_type": "code",
   "execution_count": 29,
   "metadata": {},
   "outputs": [
    {
     "data": {
      "text/plain": [
       "Text(0.5, 0, 'x values')"
      ]
     },
     "execution_count": 29,
     "metadata": {},
     "output_type": "execute_result"
    },
    {
     "data": {
      "image/png": "[encoded data removed]",
      "text/plain": [
       "<Figure size 432x288 with 1 Axes>"
      ]
     },
     "metadata": {
      "needs_background": "light"
     },
     "output_type": "display_data"
    }
   ],
   "source": [
    "def sin_x_squared(x):\n",
    "    return np.sin(x)**2\n",
    "import math\n",
    "x=np.linspace(0,2*math.pi,100)\n",
    "plt.plot(x,sin_x_squared(x))\n",
    "plt.xlabel('x values')"
   ]
  },
  {
   "cell_type": "markdown",
   "metadata": {},
   "source": [
    "# Linear Algebra in NumPy\n",
    "\n",
    "We'll start with \n",
    "```python\n",
    "import numpy.linalg as la\n",
    "```\n",
    "`numpy` is the *package*.  `linalg` is a *module* in the package."
   ]
  },
  {
   "cell_type": "code",
   "execution_count": 75,
   "metadata": {},
   "outputs": [],
   "source": [
    "import numpy.linalg as la"
   ]
  },
  {
   "cell_type": "markdown",
   "metadata": {},
   "source": [
    "You can find a full list of available operations/decompositions in [the documentation](https://docs.scipy.org/doc/numpy-1.15.1/reference/routines.linalg.html)\n",
    "\n",
    "* `la.eye(3)`, Identity matrix\n",
    "* `la.trace(A)`, Trace\n",
    "* `la.column_stack((A,B))`, Stack column wise\n",
    "* `la.row_stack((A,B,A))`, Stack row wise\n",
    "* `la.qr`, Computes the QR decomposition\n",
    "* `la.cholesky`, Computes the Cholesky decomposition\n",
    "* `la.inv(A)`, Inverse\n",
    "* `la.solve(A,b)`, Solves $Ax = b$ for $A$ full rank\n",
    "* `la.lstsq(A,b)`, Solves $\\arg\\min_x \\|Ax-b\\|_2$\n",
    "* `la.eig(A)`, Eigenvalue decomposition\n",
    "* `la.eigh(A)`, Eigenvalue decomposition for\n",
    "symmetric or hermitian\n",
    "* `la.eigvals(A)`, Computes eigenvalues.\n",
    "* `la.svd(A, full)`, Singular value decomposition\n",
    "* `la.pinv(A)`, Computes pseudo-inverse of A"
   ]
  },
  {
   "cell_type": "code",
   "execution_count": 76,
   "metadata": {},
   "outputs": [
    {
     "name": "stdout",
     "output_type": "stream",
     "text": [
      "A  = \n",
      " [[ 1.12628539 -0.05195558 -1.77024503]\n",
      " [-0.11597357  0.40069215  0.81461847]]\n",
      "U = \n",
      " [[-0.93427619  0.35655014]\n",
      " [ 0.35655014  0.93427619]]\n",
      "S = \n",
      " [2.23900011 0.47903179]\n",
      "V = \n",
      " [[-0.48843768  0.08548803  0.86840108]\n",
      " [ 0.61212194  0.74281578  0.27116683]\n",
      " [ 0.6218805  -0.66401545  0.41514831]]\n"
     ]
    }
   ],
   "source": [
    "# example of SVD\n",
    "A = np.random.normal(0, 1, (2,3))\n",
    "U, S, V = la.svd(A)\n",
    "print(\"A  = \\n\", A)\n",
    "print(\"U = \\n\", U)\n",
    "print(\"S = \\n\", S)\n",
    "print(\"V = \\n\", V)"
   ]
  },
  {
   "cell_type": "code",
   "execution_count": 77,
   "metadata": {},
   "outputs": [
    {
     "name": "stdout",
     "output_type": "stream",
     "text": [
      "A = \n",
      " [[0. 1.]\n",
      " [2. 3.]]\n",
      "x = \n",
      " [1. 2.]\n",
      "b = \n",
      " [2. 8.]\n",
      "x2 = \n",
      " [1. 2.]\n"
     ]
    }
   ],
   "source": [
    "A = np.arange(0, 4, 1.0).reshape(2,2)\n",
    "print(\"A = \\n\",A)\n",
    "x = np.array([1,2], float)\n",
    "print(\"x = \\n\", x)\n",
    "b = A.dot(x) # Matrix-vector multiplication\n",
    "print(\"b = \\n\", b)\n",
    "# x2 <- A \\ b\n",
    "x2 = la.solve(A,b)\n",
    "print(\"x2 = \\n\", x2)"
   ]
  },
  {
   "cell_type": "markdown",
   "metadata": {},
   "source": [
    "Yes.  Matrix vector multiplication really is done using `A.dot(x)`\n",
    "\n",
    "It may look funny, but is mathematically correct.  What you are doing is taking inner products between each row of `A` and the vector `x`."
   ]
  },
  {
   "cell_type": "code",
   "execution_count": 79,
   "metadata": {},
   "outputs": [
    {
     "name": "stdout",
     "output_type": "stream",
     "text": [
      "A = \n",
      " [[0. 1.]\n",
      " [2. 3.]]\n",
      "A^T = \n",
      " [[0. 2.]\n",
      " [1. 3.]]\n"
     ]
    }
   ],
   "source": [
    "# Transpose\n",
    "print(\"A = \\n\",A)\n",
    "print(\"A^T = \\n\",A.T)"
   ]
  },
  {
   "cell_type": "markdown",
   "metadata": {},
   "source": [
    "# Random Numbers"
   ]
  },
  {
   "cell_type": "code",
   "execution_count": 80,
   "metadata": {},
   "outputs": [],
   "source": [
    "import numpy.random as rng # another module of numpy"
   ]
  },
  {
   "cell_type": "markdown",
   "metadata": {},
   "source": [
    "Again, if you're looking for something in particular, see [the documentation](https://docs.scipy.org/doc/numpy-1.14.0/reference/routines.random.html)\n",
    "\n",
    "* `rng.rand(d0,d1,...,dn)`, Random values in a given shape\n",
    "* `rng.randn(d0, d1, ...,dn)`, Random standard normal\n",
    "* `rng.randint(lo, hi, size)`, Random integers `[lo, hi)`\n",
    "* `rng.choice(a, size, repl, p)`, Sample from a\n",
    "* `rng.shuffle(a)`, Permutation (in-place)\n",
    "* `rng.permutation(a)`, Permutation (new array)\n",
    "* Also, have parameterized distributions: `beta`, `binomial`, `chisquare`, `exponential`, `dirichlet`, `gamma`, `laplace`, `lognormal`, `pareto`, `poisson`, `power`..."
   ]
  },
  {
   "cell_type": "markdown",
   "metadata": {},
   "source": [
    "To plot histograms, using Pyplot:"
   ]
  },
  {
   "cell_type": "code",
   "execution_count": 84,
   "metadata": {},
   "outputs": [
    {
     "data": {
      "image/png": "[encoded data removed]",
      "text/plain": [
       "<Figure size 360x288 with 1 Axes>"
      ]
     },
     "metadata": {
      "needs_background": "light"
     },
     "output_type": "display_data"
    }
   ],
   "source": [
    "f, ax = plt.subplots(1, 1, figsize=(5,4))\n",
    "\n",
    "bins = np.linspace(-20, 20, 50) # 50 bins between -20 and 20 \n",
    "\n",
    "# data\n",
    "x1 = np.random.normal(-1, 3, 5000) \n",
    "x2 = np.random.normal(6, 4, 5000)\n",
    "\n",
    "# add histograms to plots\n",
    "plt.hist(x1, bins = bins, color='red', label = 'Trial', histtype='step')\n",
    "plt.hist(x2, bins = bins, color='blue', label = 'Control', histtype='step')\n",
    "\n",
    "plt.legend()\n",
    "plt.show()"
   ]
  },
  {
   "cell_type": "code",
   "execution_count": 85,
   "metadata": {},
   "outputs": [
    {
     "data": {
      "image/png": "[encoded data removed]",
      "text/plain": [
       "<Figure size 360x288 with 1 Axes>"
      ]
     },
     "metadata": {
      "needs_background": "light"
     },
     "output_type": "display_data"
    }
   ],
   "source": [
    "# example of a 2D histogram\n",
    "f, ax = plt.subplots(1, 1, figsize=(5,4))\n",
    "plt.hist2d(np.random.normal(-1, 3, 100000), np.random.normal(6, 4, 100000), bins=100)\n",
    "plt.show()"
   ]
  },
  {
   "cell_type": "markdown",
   "metadata": {},
   "source": [
    "# Exercise 2\n",
    "\n",
    "1. Choose a your favorite univariate probability distribution (aside from a normal distribution)\n",
    "    1. See if it is in `numpy.random` [here](https://docs.scipy.org/doc/numpy-1.14.0/reference/routines.random.html#distributions)\n",
    "    2. plot a histogram of your distribution with 10,000 samples\n",
    "    3. Overlay a histogram of your second favorite distribution onto the same plot.\n",
    "    \n",
    "2. Matrix-Matrix multiplication.  Form your favorite $2\\times 2$ matrix - we'll call it $A$.  What is the result of:\n",
    "    1. `A*A`\n",
    "    2. `A.dot(A)`\n",
    "\n",
    "Can you explain why?\n",
    "3. **Power method**\n",
    "\n",
    "Power method is an algorithm for finding the largest eigenpair of a matrix.  We'll assume that we're working with symmetric/hermitian matrices for simplicity.  Recall the largest eigenvector of a matrix $A$ solves the variational problem:\n",
    "$$\\max_{\\|v\\|_2 = 1} v^T A v$$\n",
    "The eigenvalue is the value $\\lambda = v^T A v$.\n",
    "* generate a random symmetric matrix (however you like).\n",
    "* Find the largest eigenpair using `numpy.linalg.eigh`\n",
    "\n",
    "The power method uses iterated matrix-vector multiplication to find the largest eigenvalue of $A$.  \n",
    "```\n",
    "input: A - n x n symmetric matrix\n",
    "output: v, lam - vector of length n and eigenvalue\n",
    "\n",
    "v = random vector of length n\n",
    "v = v/||v||_2\n",
    "while not converged:\n",
    "    v = A*v\n",
    "    v = v/||v||_2\n",
    "    \n",
    "lam = v^T A v\n",
    "```\n",
    "\n",
    "turn the above pseudo-code into a python function that implements power method. How does the result compare to `eigh`?\n",
    "\n",
    "**Hints** \n",
    "* You may find the following function useful: `numpy.linalg.norm` [docs](https://docs.scipy.org/doc/numpy-1.13.0/reference/generated/numpy.linalg.norm.html)\n",
    "* $v^T A v$ can be computed using the `dot` method\n",
    "* track convergence using the convergence of the rayleigh quotient $r = v^T A v$.  Say you've converged when $r$ changes by at most $10^{-8}$\n",
    "\n",
    "**Bonus**\n",
    "Plot convergence of the rayleigh quotient using `plt.semilogy` [docs](https://matplotlib.org/api/_as_gen/matplotlib.pyplot.semilogy.html)"
   ]
  },
  {
   "cell_type": "code",
   "execution_count": null,
   "metadata": {},
   "outputs": [],
   "source": [
    "import numpy.random as rnd\n",
    "import numpy.linalg as lng\n",
    "random_numbers=rnd.poisson(size=(10**4,))\n",
    "plt.hist(random_numbers, color='red', label = 'Poisson', histtype='step')\n",
    "plt.hist(rnd.random(size=(10**4,)), color='blue', label = 'Uniform', histtype='step')\n",
    "\n",
    "A=rnd.randint(-200,200,(3,3))\n",
    "\n",
    "print(A)\n",
    "print(A*A) # elementwise\n",
    "A.dot(A) # matrix multiplication\n",
    "B=rnd.randint(-200,200,(3,3))\n",
    "symmetric=(B+B.T)/2\n",
    "lng.eigh(symmetric)\n",
    "\n",
    "def highest_eig(A):\n",
    "    v = rnd.randn(len(A),1)\n",
    "    v = v/lng.norm(v)**2\n",
    "    convergence=[]\n",
    "    lam=v.T.dot(A.dot(v))\n",
    "    converged=False\n",
    "    while not converged:\n",
    "        v = A.dot(v)\n",
    "        v = v/lng.norm(v)**2\n",
    "        lam, lambda_previous = v.T.dot(A.dot(v)),lam\n",
    "        convergence.append(abs(lam-lambda_previous))\n",
    "        if convergence[-1]<10**-6:\n",
    "            plt.semilogy(convergence)\n",
    "            converged=True\n",
    "            plt.show()\n",
    "    print(v, lam)\n",
    "\n",
    "highest_eig(symmetric)"
   ]
  },
  {
   "cell_type": "code",
   "execution_count": null,
   "metadata": {},
   "outputs": [],
   "source": [
    "# possible solution to power method\n",
    "import numpy as np\n",
    "import matplotlib.pyplot as plt\n",
    "\n",
    "# generate random matrix\n",
    "n = 100\n",
    "A = np.random.normal(0, 1, (n,n))\n",
    "# make a symmetric matrix\n",
    "A = A.dot(A.T) # A <- A*A^T\n",
    "\n",
    "print(\"Using eigh\")\n",
    "lam, V = np.linalg.eigh(A)\n",
    "print(\"largest eigenvalue: \", lam[-1:][0])\n",
    "#print(\"associated eigenvector:\\n\", V[:,-1:])\n",
    "print(\"\\n\")\n",
    "\n",
    "# rayleigh quotient\n",
    "# returns v^T*Av\n",
    "def rq(v, A):\n",
    "    return v.dot(A.dot(v))\n",
    "\n",
    "# compute power method\n",
    "# tol is a key-word argument for convergence tolerance\n",
    "def power_method(A, tol=1e-8):\n",
    "    n = A.shape[1]\n",
    "    # generate random vector with unit length\n",
    "    v = np.random.normal(0, 1, n)\n",
    "    v /= np.linalg.norm(v)\n",
    "    \n",
    "    rqs = [] # keep track of rayleigh quotients as we progress\n",
    "    rqs.append(rq(v, A))\n",
    "    converged = False\n",
    "    \n",
    "    while True:\n",
    "        \n",
    "        # v <- A*v\n",
    "        v = A.dot(v)\n",
    "        # normalize v\n",
    "        v /= np.linalg.norm(v)\n",
    "        \n",
    "        rqs.append(rq(v,A))\n",
    "        # check if rayleigh quotient has converged\n",
    "        if np.abs(rqs[-1] - rqs[-2]) < tol:\n",
    "            break\n",
    "    \n",
    "    # set eigenvalue\n",
    "    lam = rqs[-1]\n",
    "    \n",
    "    return v, lam, rqs\n",
    "\n",
    "print(\"using power method\")\n",
    "v_power, lam_power, rqs = power_method(A, tol=1e-12)\n",
    "print(\"largest eigenvalue: \", lam_power)\n",
    "#print(\"associated eigenvector:\\n\", v_power)\n",
    "print(\"converged in %d iterations\" % len(rqs))\n",
    "print(\"\\n\")\n",
    "\n",
    "# error in eigenvector - take into account sign ambiguity\n",
    "err = np.minimum(np.linalg.norm(V[:,-1] - v_power), np.linalg.norm(V[:,-1] + v_power))\n",
    "print(\"error in eigenvector = \", err)"
   ]
  },
  {
   "cell_type": "code",
   "execution_count": null,
   "metadata": {},
   "outputs": [],
   "source": [
    "# make numpy array\n",
    "# that tracks convergence of Rayleigh quotient to final value\n",
    "rq_error = np.array(rqs[:-1])\n",
    "rq_error -= lam_power\n",
    "rq_error = np.abs(rq_error)\n",
    "\n",
    "\n",
    "f, ax = plt.subplots(1, 1, figsize=(10,8))\n",
    "\n",
    "ax.semilogy(rq_error)\n",
    "ax.set_xlabel('iteration')\n",
    "ax.set_ylabel(r'|$\\lambda$ - $R_q$|')\n",
    "ax.set_title(\"Convergence of Rayleigh Quotient\")\n",
    "\n",
    "plt.show()"
   ]
  }
 ],
 "metadata": {
  "kernelspec": {
   "display_name": "Python 3",
   "language": "python",
   "name": "python3"
  },
  "language_info": {
   "codemirror_mode": {
    "name": "ipython",
    "version": 3
   },
   "file_extension": ".py",
   "mimetype": "text/x-python",
   "name": "python",
   "nbconvert_exporter": "python",
   "pygments_lexer": "ipython3",
   "version": "3.7.6"
  }
 },
 "nbformat": 4,
 "nbformat_minor": 2
}
