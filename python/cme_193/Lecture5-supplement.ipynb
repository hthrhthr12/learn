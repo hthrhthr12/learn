{
 "cells": [
  {
   "cell_type": "markdown",
   "metadata": {},
   "source": [
    "# CME 193 - Pandas Exercise Supplement\n",
    "\n",
    "In this extended exercise, you'll load and play with CO2 data collected at the Mauna Loa observatory over the last 60 years. \n",
    "\n",
    "* NOAA Website: https://www.esrl.noaa.gov/gmd/ccgg/trends/full.html\n",
    "* NOAA data: https://www.esrl.noaa.gov/gmd/ccgg/trends/data.html\n",
    "\n",
    "The monthly data can be found at this [link](ftp://aftp.cmdl.noaa.gov/products/trends/co2/co2_mm_mlo.txt)"
   ]
  },
  {
   "cell_type": "code",
   "execution_count": 2,
   "metadata": {},
   "outputs": [],
   "source": [
    "import numpy as np\n",
    "import scipy\n",
    "import pandas as pd\n",
    "import matplotlib.pyplot as plt"
   ]
  },
  {
   "cell_type": "markdown",
   "metadata": {},
   "source": [
    "Reads the data from the ftp server directly."
   ]
  },
  {
   "cell_type": "code",
   "execution_count": 86,
   "metadata": {},
   "outputs": [],
   "source": [
    "df = pd.read_csv('ftp://aftp.cmdl.noaa.gov/products/trends/co2/co2_mm_mlo.txt', \n",
    "                   delim_whitespace=True, \n",
    "                   comment='#',\n",
    "                   names=[\"year\", \"month\", \"decdate\", \"co2\", \"co2interp\", \"trend\", \"days\"],\n",
    "                   index_col=False)"
   ]
  },
  {
   "cell_type": "code",
   "execution_count": 87,
   "metadata": {
    "scrolled": false
   },
   "outputs": [
    {
     "data": {
      "text/html": [
       "<div>\n",
       "<style scoped>\n",
       "    .dataframe tbody tr th:only-of-type {\n",
       "        vertical-align: middle;\n",
       "    }\n",
       "\n",
       "    .dataframe tbody tr th {\n",
       "        vertical-align: top;\n",
       "    }\n",
       "\n",
       "    .dataframe thead th {\n",
       "        text-align: right;\n",
       "    }\n",
       "</style>\n",
       "<table border=\"1\" class=\"dataframe\">\n",
       "  <thead>\n",
       "    <tr style=\"text-align: right;\">\n",
       "      <th></th>\n",
       "      <th>year</th>\n",
       "      <th>month</th>\n",
       "      <th>decdate</th>\n",
       "      <th>co2</th>\n",
       "      <th>co2interp</th>\n",
       "      <th>trend</th>\n",
       "      <th>days</th>\n",
       "    </tr>\n",
       "  </thead>\n",
       "  <tbody>\n",
       "    <tr>\n",
       "      <th>0</th>\n",
       "      <td>1958</td>\n",
       "      <td>3</td>\n",
       "      <td>1958.208</td>\n",
       "      <td>315.71</td>\n",
       "      <td>315.71</td>\n",
       "      <td>314.62</td>\n",
       "      <td>-1</td>\n",
       "    </tr>\n",
       "    <tr>\n",
       "      <th>1</th>\n",
       "      <td>1958</td>\n",
       "      <td>4</td>\n",
       "      <td>1958.292</td>\n",
       "      <td>317.45</td>\n",
       "      <td>317.45</td>\n",
       "      <td>315.29</td>\n",
       "      <td>-1</td>\n",
       "    </tr>\n",
       "    <tr>\n",
       "      <th>2</th>\n",
       "      <td>1958</td>\n",
       "      <td>5</td>\n",
       "      <td>1958.375</td>\n",
       "      <td>317.50</td>\n",
       "      <td>317.50</td>\n",
       "      <td>314.71</td>\n",
       "      <td>-1</td>\n",
       "    </tr>\n",
       "    <tr>\n",
       "      <th>3</th>\n",
       "      <td>1958</td>\n",
       "      <td>6</td>\n",
       "      <td>1958.458</td>\n",
       "      <td>-99.99</td>\n",
       "      <td>317.10</td>\n",
       "      <td>314.85</td>\n",
       "      <td>-1</td>\n",
       "    </tr>\n",
       "    <tr>\n",
       "      <th>4</th>\n",
       "      <td>1958</td>\n",
       "      <td>7</td>\n",
       "      <td>1958.542</td>\n",
       "      <td>315.86</td>\n",
       "      <td>315.86</td>\n",
       "      <td>314.98</td>\n",
       "      <td>-1</td>\n",
       "    </tr>\n",
       "    <tr>\n",
       "      <th>...</th>\n",
       "      <td>...</td>\n",
       "      <td>...</td>\n",
       "      <td>...</td>\n",
       "      <td>...</td>\n",
       "      <td>...</td>\n",
       "      <td>...</td>\n",
       "      <td>...</td>\n",
       "    </tr>\n",
       "    <tr>\n",
       "      <th>740</th>\n",
       "      <td>2019</td>\n",
       "      <td>11</td>\n",
       "      <td>2019.875</td>\n",
       "      <td>410.27</td>\n",
       "      <td>410.27</td>\n",
       "      <td>412.27</td>\n",
       "      <td>25</td>\n",
       "    </tr>\n",
       "    <tr>\n",
       "      <th>741</th>\n",
       "      <td>2019</td>\n",
       "      <td>12</td>\n",
       "      <td>2019.958</td>\n",
       "      <td>411.76</td>\n",
       "      <td>411.76</td>\n",
       "      <td>412.44</td>\n",
       "      <td>31</td>\n",
       "    </tr>\n",
       "    <tr>\n",
       "      <th>742</th>\n",
       "      <td>2020</td>\n",
       "      <td>1</td>\n",
       "      <td>2020.042</td>\n",
       "      <td>413.40</td>\n",
       "      <td>413.40</td>\n",
       "      <td>413.08</td>\n",
       "      <td>29</td>\n",
       "    </tr>\n",
       "    <tr>\n",
       "      <th>743</th>\n",
       "      <td>2020</td>\n",
       "      <td>2</td>\n",
       "      <td>2020.125</td>\n",
       "      <td>414.11</td>\n",
       "      <td>414.11</td>\n",
       "      <td>413.26</td>\n",
       "      <td>28</td>\n",
       "    </tr>\n",
       "    <tr>\n",
       "      <th>744</th>\n",
       "      <td>2020</td>\n",
       "      <td>3</td>\n",
       "      <td>2020.208</td>\n",
       "      <td>414.50</td>\n",
       "      <td>414.50</td>\n",
       "      <td>413.03</td>\n",
       "      <td>26</td>\n",
       "    </tr>\n",
       "  </tbody>\n",
       "</table>\n",
       "<p>745 rows × 7 columns</p>\n",
       "</div>"
      ],
      "text/plain": [
       "     year  month   decdate     co2  co2interp   trend  days\n",
       "0    1958      3  1958.208  315.71     315.71  314.62    -1\n",
       "1    1958      4  1958.292  317.45     317.45  315.29    -1\n",
       "2    1958      5  1958.375  317.50     317.50  314.71    -1\n",
       "3    1958      6  1958.458  -99.99     317.10  314.85    -1\n",
       "4    1958      7  1958.542  315.86     315.86  314.98    -1\n",
       "..    ...    ...       ...     ...        ...     ...   ...\n",
       "740  2019     11  2019.875  410.27     410.27  412.27    25\n",
       "741  2019     12  2019.958  411.76     411.76  412.44    31\n",
       "742  2020      1  2020.042  413.40     413.40  413.08    29\n",
       "743  2020      2  2020.125  414.11     414.11  413.26    28\n",
       "744  2020      3  2020.208  414.50     414.50  413.03    26\n",
       "\n",
       "[745 rows x 7 columns]"
      ]
     },
     "execution_count": 87,
     "metadata": {},
     "output_type": "execute_result"
    }
   ],
   "source": [
    "pd.set_option('display.max_rows', 10)\n",
    "df"
   ]
  },
  {
   "cell_type": "code",
   "execution_count": 88,
   "metadata": {},
   "outputs": [],
   "source": [
    "# copies the original data.\n",
    "orig = df.copy()"
   ]
  },
  {
   "cell_type": "markdown",
   "metadata": {},
   "source": [
    "## Part 1 - Normalize the Date\n",
    "\n",
    "1. create a new column for the dataframe called 'day' that is set to be 1 in every entry"
   ]
  },
  {
   "cell_type": "code",
   "execution_count": 89,
   "metadata": {},
   "outputs": [
    {
     "data": {
      "text/html": [
       "<div>\n",
       "<style scoped>\n",
       "    .dataframe tbody tr th:only-of-type {\n",
       "        vertical-align: middle;\n",
       "    }\n",
       "\n",
       "    .dataframe tbody tr th {\n",
       "        vertical-align: top;\n",
       "    }\n",
       "\n",
       "    .dataframe thead th {\n",
       "        text-align: right;\n",
       "    }\n",
       "</style>\n",
       "<table border=\"1\" class=\"dataframe\">\n",
       "  <thead>\n",
       "    <tr style=\"text-align: right;\">\n",
       "      <th></th>\n",
       "      <th>year</th>\n",
       "      <th>month</th>\n",
       "      <th>decdate</th>\n",
       "      <th>co2</th>\n",
       "      <th>co2interp</th>\n",
       "      <th>trend</th>\n",
       "      <th>days</th>\n",
       "      <th>day</th>\n",
       "    </tr>\n",
       "  </thead>\n",
       "  <tbody>\n",
       "    <tr>\n",
       "      <th>0</th>\n",
       "      <td>1958</td>\n",
       "      <td>3</td>\n",
       "      <td>1958.208</td>\n",
       "      <td>315.71</td>\n",
       "      <td>315.71</td>\n",
       "      <td>314.62</td>\n",
       "      <td>-1</td>\n",
       "      <td>1</td>\n",
       "    </tr>\n",
       "    <tr>\n",
       "      <th>1</th>\n",
       "      <td>1958</td>\n",
       "      <td>4</td>\n",
       "      <td>1958.292</td>\n",
       "      <td>317.45</td>\n",
       "      <td>317.45</td>\n",
       "      <td>315.29</td>\n",
       "      <td>-1</td>\n",
       "      <td>1</td>\n",
       "    </tr>\n",
       "    <tr>\n",
       "      <th>2</th>\n",
       "      <td>1958</td>\n",
       "      <td>5</td>\n",
       "      <td>1958.375</td>\n",
       "      <td>317.50</td>\n",
       "      <td>317.50</td>\n",
       "      <td>314.71</td>\n",
       "      <td>-1</td>\n",
       "      <td>1</td>\n",
       "    </tr>\n",
       "    <tr>\n",
       "      <th>3</th>\n",
       "      <td>1958</td>\n",
       "      <td>6</td>\n",
       "      <td>1958.458</td>\n",
       "      <td>-99.99</td>\n",
       "      <td>317.10</td>\n",
       "      <td>314.85</td>\n",
       "      <td>-1</td>\n",
       "      <td>1</td>\n",
       "    </tr>\n",
       "    <tr>\n",
       "      <th>4</th>\n",
       "      <td>1958</td>\n",
       "      <td>7</td>\n",
       "      <td>1958.542</td>\n",
       "      <td>315.86</td>\n",
       "      <td>315.86</td>\n",
       "      <td>314.98</td>\n",
       "      <td>-1</td>\n",
       "      <td>1</td>\n",
       "    </tr>\n",
       "    <tr>\n",
       "      <th>...</th>\n",
       "      <td>...</td>\n",
       "      <td>...</td>\n",
       "      <td>...</td>\n",
       "      <td>...</td>\n",
       "      <td>...</td>\n",
       "      <td>...</td>\n",
       "      <td>...</td>\n",
       "      <td>...</td>\n",
       "    </tr>\n",
       "    <tr>\n",
       "      <th>740</th>\n",
       "      <td>2019</td>\n",
       "      <td>11</td>\n",
       "      <td>2019.875</td>\n",
       "      <td>410.27</td>\n",
       "      <td>410.27</td>\n",
       "      <td>412.27</td>\n",
       "      <td>25</td>\n",
       "      <td>1</td>\n",
       "    </tr>\n",
       "    <tr>\n",
       "      <th>741</th>\n",
       "      <td>2019</td>\n",
       "      <td>12</td>\n",
       "      <td>2019.958</td>\n",
       "      <td>411.76</td>\n",
       "      <td>411.76</td>\n",
       "      <td>412.44</td>\n",
       "      <td>31</td>\n",
       "      <td>1</td>\n",
       "    </tr>\n",
       "    <tr>\n",
       "      <th>742</th>\n",
       "      <td>2020</td>\n",
       "      <td>1</td>\n",
       "      <td>2020.042</td>\n",
       "      <td>413.40</td>\n",
       "      <td>413.40</td>\n",
       "      <td>413.08</td>\n",
       "      <td>29</td>\n",
       "      <td>1</td>\n",
       "    </tr>\n",
       "    <tr>\n",
       "      <th>743</th>\n",
       "      <td>2020</td>\n",
       "      <td>2</td>\n",
       "      <td>2020.125</td>\n",
       "      <td>414.11</td>\n",
       "      <td>414.11</td>\n",
       "      <td>413.26</td>\n",
       "      <td>28</td>\n",
       "      <td>1</td>\n",
       "    </tr>\n",
       "    <tr>\n",
       "      <th>744</th>\n",
       "      <td>2020</td>\n",
       "      <td>3</td>\n",
       "      <td>2020.208</td>\n",
       "      <td>414.50</td>\n",
       "      <td>414.50</td>\n",
       "      <td>413.03</td>\n",
       "      <td>26</td>\n",
       "      <td>1</td>\n",
       "    </tr>\n",
       "  </tbody>\n",
       "</table>\n",
       "<p>745 rows × 8 columns</p>\n",
       "</div>"
      ],
      "text/plain": [
       "     year  month   decdate     co2  co2interp   trend  days  day\n",
       "0    1958      3  1958.208  315.71     315.71  314.62    -1    1\n",
       "1    1958      4  1958.292  317.45     317.45  315.29    -1    1\n",
       "2    1958      5  1958.375  317.50     317.50  314.71    -1    1\n",
       "3    1958      6  1958.458  -99.99     317.10  314.85    -1    1\n",
       "4    1958      7  1958.542  315.86     315.86  314.98    -1    1\n",
       "..    ...    ...       ...     ...        ...     ...   ...  ...\n",
       "740  2019     11  2019.875  410.27     410.27  412.27    25    1\n",
       "741  2019     12  2019.958  411.76     411.76  412.44    31    1\n",
       "742  2020      1  2020.042  413.40     413.40  413.08    29    1\n",
       "743  2020      2  2020.125  414.11     414.11  413.26    28    1\n",
       "744  2020      3  2020.208  414.50     414.50  413.03    26    1\n",
       "\n",
       "[745 rows x 8 columns]"
      ]
     },
     "execution_count": 89,
     "metadata": {},
     "output_type": "execute_result"
    }
   ],
   "source": [
    "orig['day']=1\n",
    "orig"
   ]
  },
  {
   "cell_type": "markdown",
   "metadata": {},
   "source": [
    "2. The dataframe now has columns for 'day', 'month', and 'year'.  Use `pd.to_datetime()` to create a new series of dates \n",
    "\n",
    "`dates = pd.to_datetime(...)`"
   ]
  },
  {
   "cell_type": "code",
   "execution_count": 90,
   "metadata": {},
   "outputs": [
    {
     "data": {
      "text/plain": [
       "0     1958-03-01\n",
       "1     1958-04-01\n",
       "2     1958-05-01\n",
       "3     1958-06-01\n",
       "4     1958-07-01\n",
       "         ...    \n",
       "740   2019-11-01\n",
       "741   2019-12-01\n",
       "742   2020-01-01\n",
       "743   2020-02-01\n",
       "744   2020-03-01\n",
       "Length: 745, dtype: datetime64[ns]"
      ]
     },
     "execution_count": 90,
     "metadata": {},
     "output_type": "execute_result"
    }
   ],
   "source": [
    "dates = pd.to_datetime(orig[['day','month','year']])\n",
    "dates"
   ]
  },
  {
   "cell_type": "markdown",
   "metadata": {},
   "source": [
    "3. set a new column of the dataframe to hold this series.  Call the column `'date'`"
   ]
  },
  {
   "cell_type": "code",
   "execution_count": 91,
   "metadata": {},
   "outputs": [],
   "source": [
    "orig['date']=dates"
   ]
  },
  {
   "cell_type": "markdown",
   "metadata": {},
   "source": [
    "4. set the index of the dataframe to be the `'date'` column using the `set_index()` method."
   ]
  },
  {
   "cell_type": "code",
   "execution_count": 92,
   "metadata": {},
   "outputs": [],
   "source": [
    "orig.set_index(\"date\",inplace=True)"
   ]
  },
  {
   "cell_type": "markdown",
   "metadata": {},
   "source": [
    "5. Now let's remove the old columns with date information.  Use the `drop()` method to remove the 'day', 'month', 'year', and 'decdate' columns.  Hint: `df.drop(..., axis=1, inplace=True)`\n",
    "\n",
    "5a. Go ahead and drop the 'days' column as well, since we're not going to use it."
   ]
  },
  {
   "cell_type": "code",
   "execution_count": 93,
   "metadata": {},
   "outputs": [
    {
     "data": {
      "text/html": [
       "<div>\n",
       "<style scoped>\n",
       "    .dataframe tbody tr th:only-of-type {\n",
       "        vertical-align: middle;\n",
       "    }\n",
       "\n",
       "    .dataframe tbody tr th {\n",
       "        vertical-align: top;\n",
       "    }\n",
       "\n",
       "    .dataframe thead th {\n",
       "        text-align: right;\n",
       "    }\n",
       "</style>\n",
       "<table border=\"1\" class=\"dataframe\">\n",
       "  <thead>\n",
       "    <tr style=\"text-align: right;\">\n",
       "      <th></th>\n",
       "      <th>decdate</th>\n",
       "      <th>co2</th>\n",
       "      <th>co2interp</th>\n",
       "      <th>trend</th>\n",
       "      <th>days</th>\n",
       "    </tr>\n",
       "    <tr>\n",
       "      <th>date</th>\n",
       "      <th></th>\n",
       "      <th></th>\n",
       "      <th></th>\n",
       "      <th></th>\n",
       "      <th></th>\n",
       "    </tr>\n",
       "  </thead>\n",
       "  <tbody>\n",
       "    <tr>\n",
       "      <th>1958-03-01</th>\n",
       "      <td>1958.208</td>\n",
       "      <td>315.71</td>\n",
       "      <td>315.71</td>\n",
       "      <td>314.62</td>\n",
       "      <td>-1</td>\n",
       "    </tr>\n",
       "    <tr>\n",
       "      <th>1958-04-01</th>\n",
       "      <td>1958.292</td>\n",
       "      <td>317.45</td>\n",
       "      <td>317.45</td>\n",
       "      <td>315.29</td>\n",
       "      <td>-1</td>\n",
       "    </tr>\n",
       "    <tr>\n",
       "      <th>1958-05-01</th>\n",
       "      <td>1958.375</td>\n",
       "      <td>317.50</td>\n",
       "      <td>317.50</td>\n",
       "      <td>314.71</td>\n",
       "      <td>-1</td>\n",
       "    </tr>\n",
       "    <tr>\n",
       "      <th>1958-06-01</th>\n",
       "      <td>1958.458</td>\n",
       "      <td>-99.99</td>\n",
       "      <td>317.10</td>\n",
       "      <td>314.85</td>\n",
       "      <td>-1</td>\n",
       "    </tr>\n",
       "    <tr>\n",
       "      <th>1958-07-01</th>\n",
       "      <td>1958.542</td>\n",
       "      <td>315.86</td>\n",
       "      <td>315.86</td>\n",
       "      <td>314.98</td>\n",
       "      <td>-1</td>\n",
       "    </tr>\n",
       "    <tr>\n",
       "      <th>...</th>\n",
       "      <td>...</td>\n",
       "      <td>...</td>\n",
       "      <td>...</td>\n",
       "      <td>...</td>\n",
       "      <td>...</td>\n",
       "    </tr>\n",
       "    <tr>\n",
       "      <th>2019-11-01</th>\n",
       "      <td>2019.875</td>\n",
       "      <td>410.27</td>\n",
       "      <td>410.27</td>\n",
       "      <td>412.27</td>\n",
       "      <td>25</td>\n",
       "    </tr>\n",
       "    <tr>\n",
       "      <th>2019-12-01</th>\n",
       "      <td>2019.958</td>\n",
       "      <td>411.76</td>\n",
       "      <td>411.76</td>\n",
       "      <td>412.44</td>\n",
       "      <td>31</td>\n",
       "    </tr>\n",
       "    <tr>\n",
       "      <th>2020-01-01</th>\n",
       "      <td>2020.042</td>\n",
       "      <td>413.40</td>\n",
       "      <td>413.40</td>\n",
       "      <td>413.08</td>\n",
       "      <td>29</td>\n",
       "    </tr>\n",
       "    <tr>\n",
       "      <th>2020-02-01</th>\n",
       "      <td>2020.125</td>\n",
       "      <td>414.11</td>\n",
       "      <td>414.11</td>\n",
       "      <td>413.26</td>\n",
       "      <td>28</td>\n",
       "    </tr>\n",
       "    <tr>\n",
       "      <th>2020-03-01</th>\n",
       "      <td>2020.208</td>\n",
       "      <td>414.50</td>\n",
       "      <td>414.50</td>\n",
       "      <td>413.03</td>\n",
       "      <td>26</td>\n",
       "    </tr>\n",
       "  </tbody>\n",
       "</table>\n",
       "<p>745 rows × 5 columns</p>\n",
       "</div>"
      ],
      "text/plain": [
       "             decdate     co2  co2interp   trend  days\n",
       "date                                                 \n",
       "1958-03-01  1958.208  315.71     315.71  314.62    -1\n",
       "1958-04-01  1958.292  317.45     317.45  315.29    -1\n",
       "1958-05-01  1958.375  317.50     317.50  314.71    -1\n",
       "1958-06-01  1958.458  -99.99     317.10  314.85    -1\n",
       "1958-07-01  1958.542  315.86     315.86  314.98    -1\n",
       "...              ...     ...        ...     ...   ...\n",
       "2019-11-01  2019.875  410.27     410.27  412.27    25\n",
       "2019-12-01  2019.958  411.76     411.76  412.44    31\n",
       "2020-01-01  2020.042  413.40     413.40  413.08    29\n",
       "2020-02-01  2020.125  414.11     414.11  413.26    28\n",
       "2020-03-01  2020.208  414.50     414.50  413.03    26\n",
       "\n",
       "[745 rows x 5 columns]"
      ]
     },
     "execution_count": 93,
     "metadata": {},
     "output_type": "execute_result"
    }
   ],
   "source": [
    "orig.drop(['day','month','year'], axis=1, inplace=True)\n",
    "orig"
   ]
  },
  {
   "cell_type": "markdown",
   "metadata": {},
   "source": [
    "## Part 2 - deal with missing values\n",
    "\n",
    "1. First, use the `plot()` method to visualize the contents of your dataframe.  What do you see?"
   ]
  },
  {
   "cell_type": "code",
   "execution_count": 95,
   "metadata": {},
   "outputs": [
    {
     "data": {
      "text/plain": [
       "<matplotlib.axes._subplots.AxesSubplot at 0x28915180ac8>"
      ]
     },
     "execution_count": 95,
     "metadata": {},
     "output_type": "execute_result"
    },
    {
     "data": {
      "image/png": "[encoded data removed]",
      "text/plain": [
       "<Figure size 432x288 with 1 Axes>"
      ]
     },
     "metadata": {
      "needs_background": "light"
     },
     "output_type": "display_data"
    }
   ],
   "source": [
    "orig.plot()\n",
    "# help(orig.plot)"
   ]
  },
  {
   "cell_type": "markdown",
   "metadata": {},
   "source": [
    "if you read the header for the file we used to load the dataframe, you'll see that missing values take the value -99.99.\n",
    "\n",
    "2. Set values that are `-99.99` to `None` (this indicates a missing value in Pandas).\n",
    "\n",
    "Hint: use the `applymap()` method, and the lambda function\n",
    "```python\n",
    "lambda x: None if x == -99.99 else x\n",
    "```\n",
    "If you're familiar with [ternary operators](https://en.wikipedia.org/wiki/%3F:), this is the equivalent of\n",
    "```\n",
    "x == -99.99 ? None : x\n",
    "```\n",
    "Note that you may need to make a new assignment e.g., `df = df.applymap(...)`"
   ]
  },
  {
   "cell_type": "code",
   "execution_count": 96,
   "metadata": {},
   "outputs": [],
   "source": [
    "orig=orig.applymap(lambda x: None if x == -99.99 else x)"
   ]
  },
  {
   "cell_type": "markdown",
   "metadata": {},
   "source": [
    "3. Plot your dataframe again.  What do you see now?\n",
    "\n",
    "3a. Try plotting just the 'co2' series.  What do you see?"
   ]
  },
  {
   "cell_type": "code",
   "execution_count": 97,
   "metadata": {},
   "outputs": [
    {
     "data": {
      "text/plain": [
       "<matplotlib.axes._subplots.AxesSubplot at 0x289136b85c8>"
      ]
     },
     "execution_count": 97,
     "metadata": {},
     "output_type": "execute_result"
    },
    {
     "data": {
      "image/png": "[encoded data removed]",
      "text/plain": [
       "<Figure size 432x288 with 1 Axes>"
      ]
     },
     "metadata": {
      "needs_background": "light"
     },
     "output_type": "display_data"
    },
    {
     "data": {
      "image/png": "[encoded data removed]",
      "text/plain": [
       "<Figure size 432x288 with 1 Axes>"
      ]
     },
     "metadata": {
      "needs_background": "light"
     },
     "output_type": "display_data"
    }
   ],
   "source": [
    "orig.plot()\n",
    "plt.figure()\n",
    "orig.co2.plot()\n",
    "orig.trend.plot()"
   ]
  },
  {
   "cell_type": "markdown",
   "metadata": {},
   "source": [
    "## Part 3 - Create New DataFrames with rows that meet conditions"
   ]
  },
  {
   "cell_type": "markdown",
   "metadata": {},
   "source": [
    "1. Create new dataframe called `recent` that contains all rows of the previous dataframe since 2007.  Plot it."
   ]
  },
  {
   "cell_type": "code",
   "execution_count": 102,
   "metadata": {},
   "outputs": [
    {
     "data": {
      "text/plain": [
       "<matplotlib.axes._subplots.AxesSubplot at 0x289154e3388>"
      ]
     },
     "execution_count": 102,
     "metadata": {},
     "output_type": "execute_result"
    },
    {
     "data": {
      "image/png": "[encoded data removed]",
      "text/plain": [
       "<Figure size 432x288 with 1 Axes>"
      ]
     },
     "metadata": {
      "needs_background": "light"
     },
     "output_type": "display_data"
    }
   ],
   "source": [
    "recent=orig.loc['2007-01-01':]\n",
    "# recent=recent[:3]\n",
    "recent.plot()"
   ]
  },
  {
   "cell_type": "markdown",
   "metadata": {},
   "source": [
    "2. Create a new dataframe called `old` that contains all rows of the dataframe before 1990.  Plot it."
   ]
  },
  {
   "cell_type": "code",
   "execution_count": 103,
   "metadata": {},
   "outputs": [
    {
     "data": {
      "text/plain": [
       "<matplotlib.axes._subplots.AxesSubplot at 0x28915596808>"
      ]
     },
     "execution_count": 103,
     "metadata": {},
     "output_type": "execute_result"
    },
    {
     "data": {
      "image/png": "[encoded data removed]",
      "text/plain": [
       "<Figure size 432x288 with 1 Axes>"
      ]
     },
     "metadata": {
      "needs_background": "light"
     },
     "output_type": "display_data"
    }
   ],
   "source": [
    "old=orig.loc[:'1990-01-01']\n",
    "old.plot()"
   ]
  },
  {
   "cell_type": "markdown",
   "metadata": {},
   "source": [
    "##### At this point, by inspection, you might be convinced there is further analysis to be done"
   ]
  },
  {
   "cell_type": "code",
   "execution_count": 104,
   "metadata": {},
   "outputs": [
    {
     "data": {
      "text/plain": [
       "(129.50944927022476, 79.90540619437522)"
      ]
     },
     "execution_count": 104,
     "metadata": {},
     "output_type": "execute_result"
    }
   ],
   "source": [
    "np.var(old['trend']), np.var(recent['trend'])"
   ]
  },
  {
   "cell_type": "markdown",
   "metadata": {},
   "source": [
    "## Part 4 - Create some groups\n",
    "\n",
    "Let's go back to the original data that we loaded"
   ]
  },
  {
   "cell_type": "code",
   "execution_count": 105,
   "metadata": {},
   "outputs": [
    {
     "data": {
      "text/html": [
       "<div>\n",
       "<style scoped>\n",
       "    .dataframe tbody tr th:only-of-type {\n",
       "        vertical-align: middle;\n",
       "    }\n",
       "\n",
       "    .dataframe tbody tr th {\n",
       "        vertical-align: top;\n",
       "    }\n",
       "\n",
       "    .dataframe thead th {\n",
       "        text-align: right;\n",
       "    }\n",
       "</style>\n",
       "<table border=\"1\" class=\"dataframe\">\n",
       "  <thead>\n",
       "    <tr style=\"text-align: right;\">\n",
       "      <th></th>\n",
       "      <th>year</th>\n",
       "      <th>month</th>\n",
       "      <th>decdate</th>\n",
       "      <th>co2</th>\n",
       "      <th>co2interp</th>\n",
       "      <th>trend</th>\n",
       "      <th>days</th>\n",
       "    </tr>\n",
       "  </thead>\n",
       "  <tbody>\n",
       "    <tr>\n",
       "      <th>0</th>\n",
       "      <td>1958</td>\n",
       "      <td>3</td>\n",
       "      <td>1958.208</td>\n",
       "      <td>315.71</td>\n",
       "      <td>315.71</td>\n",
       "      <td>314.62</td>\n",
       "      <td>-1</td>\n",
       "    </tr>\n",
       "    <tr>\n",
       "      <th>1</th>\n",
       "      <td>1958</td>\n",
       "      <td>4</td>\n",
       "      <td>1958.292</td>\n",
       "      <td>317.45</td>\n",
       "      <td>317.45</td>\n",
       "      <td>315.29</td>\n",
       "      <td>-1</td>\n",
       "    </tr>\n",
       "    <tr>\n",
       "      <th>2</th>\n",
       "      <td>1958</td>\n",
       "      <td>5</td>\n",
       "      <td>1958.375</td>\n",
       "      <td>317.50</td>\n",
       "      <td>317.50</td>\n",
       "      <td>314.71</td>\n",
       "      <td>-1</td>\n",
       "    </tr>\n",
       "    <tr>\n",
       "      <th>3</th>\n",
       "      <td>1958</td>\n",
       "      <td>6</td>\n",
       "      <td>1958.458</td>\n",
       "      <td>-99.99</td>\n",
       "      <td>317.10</td>\n",
       "      <td>314.85</td>\n",
       "      <td>-1</td>\n",
       "    </tr>\n",
       "    <tr>\n",
       "      <th>4</th>\n",
       "      <td>1958</td>\n",
       "      <td>7</td>\n",
       "      <td>1958.542</td>\n",
       "      <td>315.86</td>\n",
       "      <td>315.86</td>\n",
       "      <td>314.98</td>\n",
       "      <td>-1</td>\n",
       "    </tr>\n",
       "    <tr>\n",
       "      <th>...</th>\n",
       "      <td>...</td>\n",
       "      <td>...</td>\n",
       "      <td>...</td>\n",
       "      <td>...</td>\n",
       "      <td>...</td>\n",
       "      <td>...</td>\n",
       "      <td>...</td>\n",
       "    </tr>\n",
       "    <tr>\n",
       "      <th>740</th>\n",
       "      <td>2019</td>\n",
       "      <td>11</td>\n",
       "      <td>2019.875</td>\n",
       "      <td>410.27</td>\n",
       "      <td>410.27</td>\n",
       "      <td>412.27</td>\n",
       "      <td>25</td>\n",
       "    </tr>\n",
       "    <tr>\n",
       "      <th>741</th>\n",
       "      <td>2019</td>\n",
       "      <td>12</td>\n",
       "      <td>2019.958</td>\n",
       "      <td>411.76</td>\n",
       "      <td>411.76</td>\n",
       "      <td>412.44</td>\n",
       "      <td>31</td>\n",
       "    </tr>\n",
       "    <tr>\n",
       "      <th>742</th>\n",
       "      <td>2020</td>\n",
       "      <td>1</td>\n",
       "      <td>2020.042</td>\n",
       "      <td>413.40</td>\n",
       "      <td>413.40</td>\n",
       "      <td>413.08</td>\n",
       "      <td>29</td>\n",
       "    </tr>\n",
       "    <tr>\n",
       "      <th>743</th>\n",
       "      <td>2020</td>\n",
       "      <td>2</td>\n",
       "      <td>2020.125</td>\n",
       "      <td>414.11</td>\n",
       "      <td>414.11</td>\n",
       "      <td>413.26</td>\n",
       "      <td>28</td>\n",
       "    </tr>\n",
       "    <tr>\n",
       "      <th>744</th>\n",
       "      <td>2020</td>\n",
       "      <td>3</td>\n",
       "      <td>2020.208</td>\n",
       "      <td>414.50</td>\n",
       "      <td>414.50</td>\n",
       "      <td>413.03</td>\n",
       "      <td>26</td>\n",
       "    </tr>\n",
       "  </tbody>\n",
       "</table>\n",
       "<p>745 rows × 7 columns</p>\n",
       "</div>"
      ],
      "text/plain": [
       "     year  month   decdate     co2  co2interp   trend  days\n",
       "0    1958      3  1958.208  315.71     315.71  314.62    -1\n",
       "1    1958      4  1958.292  317.45     317.45  315.29    -1\n",
       "2    1958      5  1958.375  317.50     317.50  314.71    -1\n",
       "3    1958      6  1958.458  -99.99     317.10  314.85    -1\n",
       "4    1958      7  1958.542  315.86     315.86  314.98    -1\n",
       "..    ...    ...       ...     ...        ...     ...   ...\n",
       "740  2019     11  2019.875  410.27     410.27  412.27    25\n",
       "741  2019     12  2019.958  411.76     411.76  412.44    31\n",
       "742  2020      1  2020.042  413.40     413.40  413.08    29\n",
       "743  2020      2  2020.125  414.11     414.11  413.26    28\n",
       "744  2020      3  2020.208  414.50     414.50  413.03    26\n",
       "\n",
       "[745 rows x 7 columns]"
      ]
     },
     "execution_count": 105,
     "metadata": {},
     "output_type": "execute_result"
    }
   ],
   "source": [
    "df"
   ]
  },
  {
   "cell_type": "markdown",
   "metadata": {},
   "source": [
    "Suppose that we want to look at co2 averages by year instead of by month.\n",
    "\n",
    "1. drop rows with missing values\n",
    "\n",
    "1a. apply the map that sends -99.99 to none\n",
    "\n",
    "1b. use the `dropna()` method to remove rows with missing values: `df = df.dropna()`"
   ]
  },
  {
   "cell_type": "code",
   "execution_count": 106,
   "metadata": {},
   "outputs": [],
   "source": [
    "df=df.applymap(lambda x: None if x == -99.99 else x)\n",
    "df.dropna(inplace=True)"
   ]
  },
  {
   "cell_type": "markdown",
   "metadata": {},
   "source": [
    "2. Create a group for each year (use key 'year')"
   ]
  },
  {
   "cell_type": "code",
   "execution_count": null,
   "metadata": {},
   "outputs": [],
   "source": []
  },
  {
   "cell_type": "markdown",
   "metadata": {},
   "source": [
    "3. Aggregate the groups into a new dataframe, `df2`, using `np.mean`\n",
    "\n",
    "3a. you can drop all the columns except `'co2'` if you'd like"
   ]
  },
  {
   "cell_type": "code",
   "execution_count": 107,
   "metadata": {},
   "outputs": [],
   "source": [
    "df2=df.groupby('year').co2.mean()"
   ]
  },
  {
   "cell_type": "markdown",
   "metadata": {},
   "source": [
    "4. make a plot of the `'co2'` series"
   ]
  },
  {
   "cell_type": "code",
   "execution_count": 84,
   "metadata": {},
   "outputs": [
    {
     "data": {
      "text/plain": [
       "<matplotlib.axes._subplots.AxesSubplot at 0x28915008a88>"
      ]
     },
     "execution_count": 84,
     "metadata": {},
     "output_type": "execute_result"
    },
    {
     "data": {
      "image/png": "[encoded data removed]",
      "text/plain": [
       "<Figure size 432x288 with 1 Axes>"
      ]
     },
     "metadata": {
      "needs_background": "light"
     },
     "output_type": "display_data"
    }
   ],
   "source": [
    "df2.plot()"
   ]
  },
  {
   "cell_type": "code",
   "execution_count": null,
   "metadata": {},
   "outputs": [],
   "source": []
  }
 ],
 "metadata": {
  "kernelspec": {
   "display_name": "Python 3",
   "language": "python",
   "name": "python3"
  },
  "language_info": {
   "codemirror_mode": {
    "name": "ipython",
    "version": 3
   },
   "file_extension": ".py",
   "mimetype": "text/x-python",
   "name": "python",
   "nbconvert_exporter": "python",
   "pygments_lexer": "ipython3",
   "version": "3.7.6"
  }
 },
 "nbformat": 4,
 "nbformat_minor": 2
}
