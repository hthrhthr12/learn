{
 "cells": [
  {
   "cell_type": "markdown",
   "metadata": {},
   "source": [
    "# CME 193 - Lecture 5 - Pandas\n",
    "\n",
    "Before we get started, you may want to make sure that you have the following packages installed in whatever environment you're using: `pandas`\n",
    "\n",
    "```bash\n",
    "conda install pandas\n",
    "```\n",
    "\n",
    "Pandas is a package for working with tabular data.  \n",
    "\n",
    "We'll also cover dictionaries and lambda functions today.\n",
    "\n",
    "At the end of class, we'll have a longer exercise than usual in a supplemental notebook."
   ]
  },
  {
   "cell_type": "markdown",
   "metadata": {},
   "source": [
    "# Pandas\n",
    "\n",
    "[Pandas](https://pandas.pydata.org/) is a Python library for dealing with data.  The main thing you'll hear people talk about is the DataFrame object (inspired by R), which is designed to hold tabular data.\n",
    "\n",
    "## Difference between a DataFrame and NumPy Array\n",
    "\n",
    "Pandas DataFrames and NumPy arrays both have similarities to Python lists.  \n",
    "* Numpy arrays are designed to contain data of one type (e.g. Int, Float, ...)\n",
    "* DataFrames can contain different types of data (Int, Float, String, ...)\n",
    "    * Usually each column has the same type\n",
    "    \n",
    "    \n",
    "Both arrays and DataFrames are optimized for storage/performance beyond Python lists\n",
    "\n",
    "Pandas is also powerful for working with missing data, working with time series data, for reading and writing your data, for reshaping, grouping, merging your data, ...\n",
    "\n",
    "## Key Features\n",
    "\n",
    "* File I/O - integrations with multiple file formats\n",
    "* Working with missing data (.dropna(), pd.isnull())\n",
    "* Normal table operations: merging and joining, groupby functionality, reshaping via stack, and pivot_tables,\n",
    "* Time series-specific functionality:\n",
    "    * date range generation and frequency conversion, moving window statistics/regressions, date shifting and lagging, etc.\n",
    "* Built in Matplotlib integration\n",
    "\n",
    "## Other Strengths\n",
    "\n",
    "* Strong community, support, and documentation\n",
    "* Size mutability: columns can be inserted and deleted from DataFrame and higher dimensional objects\n",
    "* Powerful, flexible group by functionality to perform split-apply-combine operations on data sets, for both aggregating and transforming data\n",
    "* Make it easy to convert ragged, differently-indexed data in other Python and NumPy data structures into DataFrame objects Intelligent label-based slicing, fancy indexing, and subsetting of large data sets\n",
    "\n",
    "## Python/Pandas vs. R\n",
    "\n",
    "* R is a language dedicated to statistics. Python is a general-purpose language with statistics modules.\n",
    "* R has more statistical analysis features than Python, and specialized syntaxes.\n",
    "\n",
    "However, when it comes to building complex analysis pipelines that mix statistics with e.g. image analysis, text mining, or control of a physical experiment, the richness of Python is an invaluable asset."
   ]
  },
  {
   "cell_type": "markdown",
   "metadata": {},
   "source": [
    "# Getting Started\n",
    "\n",
    "[Here](https://pandas.pydata.org/pandas-docs/stable/generated/pandas.DataFrame.html) is a link to the documentation for DataFrames"
   ]
  },
  {
   "cell_type": "code",
   "execution_count": 6,
   "metadata": {},
   "outputs": [],
   "source": [
    "import pandas as pd\n",
    "import numpy as np"
   ]
  },
  {
   "cell_type": "markdown",
   "metadata": {},
   "source": [
    "## Objects and Basic Creation\n",
    "\n",
    "| Name | Dimensions | Description  |\n",
    "| ------:| -----------:|----------|\n",
    "| ```pd.Series``` | 1 | 1D labeled homogeneously-typed array |\n",
    "| ```pd.DataFrame```  | 2| General 2D labeled, size-mutable tabular structure |\n",
    "| ```pd.Panel``` | 3|  General 3D labeled, also size-mutable array |\n",
    "\n",
    "# Series\n",
    "## What are they?\n",
    "- Series is a one-dimensional labeled array capable of holding any data type (integers, strings, floating point numbers, Python objects, etc.). The axis labels are collectively referred to as the index.\n",
    "- Basic method to create a series: \n",
    "```python \n",
    "s = pd.Series(data, index = index) ```\n",
    "- Data Can be many things:\n",
    "    * A Python Dictionary\n",
    "    * An ndarray (or reg. list)\n",
    "    * A scalar \n",
    "- The passed index is a list of axis labels (which varies on what data is)\n",
    "\n",
    "Think \"Series = Vector + labels\""
   ]
  },
  {
   "cell_type": "code",
   "execution_count": 7,
   "metadata": {},
   "outputs": [
    {
     "name": "stdout",
     "output_type": "stream",
     "text": [
      "<class 'pandas.core.series.Series'>\n",
      "0     1\n",
      "1     2\n",
      "2     4\n",
      "3     8\n",
      "4    16\n",
      "5    32\n",
      "6    64\n",
      "dtype: int64\n"
     ]
    }
   ],
   "source": [
    "first_series = pd.Series([1,2,4,8,16,32,64])\n",
    "print(type(first_series))\n",
    "print(first_series)"
   ]
  },
  {
   "cell_type": "code",
   "execution_count": 8,
   "metadata": {},
   "outputs": [
    {
     "name": "stdout",
     "output_type": "stream",
     "text": [
      "a    1.032607\n",
      "b   -2.297337\n",
      "c   -1.056558\n",
      "d    0.854563\n",
      "e    1.574117\n",
      "dtype: float64\n",
      "--------------------------------------------------\n",
      "Index(['a', 'b', 'c', 'd', 'e'], dtype='object')\n"
     ]
    }
   ],
   "source": [
    "s = pd.Series(np.random.randn(5), index=['a', 'b', 'c', 'd', 'e'])\n",
    "print(s)\n",
    "print('-'*50)\n",
    "print(s.index)"
   ]
  },
  {
   "cell_type": "markdown",
   "metadata": {},
   "source": [
    "If Data is a dictionary, if index is passed the values in data corresponding to the labels in the index will be pulled out, otherwise an index will be constructed from the sorted keys of the dict"
   ]
  },
  {
   "cell_type": "code",
   "execution_count": 9,
   "metadata": {},
   "outputs": [
    {
     "data": {
      "text/plain": [
       "a      [0.0, 0]\n",
       "b    {'1': 1.0}\n",
       "c           2.0\n",
       "dtype: object"
      ]
     },
     "execution_count": 9,
     "metadata": {},
     "output_type": "execute_result"
    }
   ],
   "source": [
    "d = {'a': [0., 0], 'b': {'1':1.}, 'c': 2.}\n",
    "pd.Series(d)"
   ]
  },
  {
   "cell_type": "markdown",
   "metadata": {},
   "source": [
    "### Side Note: Dictionaries\n",
    "\n",
    "We've seen Python lists.  Dictionaries are just another built-in Python data structure.  Dictionaries consist of key-value pairs, and are constructed using \n",
    "```python\n",
    "D = { key : value, ...}```"
   ]
  },
  {
   "cell_type": "code",
   "execution_count": 10,
   "metadata": {},
   "outputs": [
    {
     "name": "stdout",
     "output_type": "stream",
     "text": [
      "key : 1   value : 5\n",
      "key : 2   value : 6\n",
      "\n",
      "\n",
      "\n",
      "key : a   value : 1\n",
      "key : b   value : 2\n",
      "key : c   value : 3\n"
     ]
    }
   ],
   "source": [
    "D = {1 : 5, 2 : 6}\n",
    "# iteration over dictionary\n",
    "for (k,v) in D.items():\n",
    "    print(\"key : %d   value : %d\" % (k, v))\n",
    "    \n",
    "    \n",
    "print(\"\\n\\n\")\n",
    "D = {'a' : 1, 'b' : 2}\n",
    "D['c'] = 3 # another way to set a key-value pair\n",
    "# another way to iterate\n",
    "for k in D:\n",
    "    v = D[k] # access value with key k\n",
    "    print(\"key : %s   value : %d\" % (k, v))"
   ]
  },
  {
   "cell_type": "markdown",
   "metadata": {},
   "source": [
    "### Back to Pandas series...\n",
    "\n",
    "You can create a series from a scalar, but need to specify indices"
   ]
  },
  {
   "cell_type": "code",
   "execution_count": 11,
   "metadata": {},
   "outputs": [
    {
     "data": {
      "text/plain": [
       "a    5\n",
       "b    5\n",
       "c    5\n",
       "dtype: int64"
      ]
     },
     "execution_count": 11,
     "metadata": {},
     "output_type": "execute_result"
    }
   ],
   "source": [
    "pd.Series(5, index = ['a', 'b', 'c'])"
   ]
  },
  {
   "cell_type": "markdown",
   "metadata": {},
   "source": [
    "You can index and slice series like you would numpy arrays/python lists"
   ]
  },
  {
   "cell_type": "code",
   "execution_count": 12,
   "metadata": {},
   "outputs": [
    {
     "name": "stdout",
     "output_type": "stream",
     "text": [
      "a    1.930498\n",
      "b    0.968153\n",
      "c    1.297900\n",
      "d   -1.184451\n",
      "e   -1.109911\n",
      "dtype: float64\n"
     ]
    }
   ],
   "source": [
    "end_string = '\\n' + '-'*50 + '\\n'\n",
    "s = pd.Series(np.random.randn(5), index=['a', 'b', 'c', 'd', 'e'])\n",
    "print(s)"
   ]
  },
  {
   "cell_type": "code",
   "execution_count": 13,
   "metadata": {},
   "outputs": [
    {
     "name": "stdout",
     "output_type": "stream",
     "text": [
      "1.9304982464537752\n",
      "--------------------------------------------------\n",
      "a    1.930498\n",
      "b    0.968153\n",
      "c    1.297900\n",
      "dtype: float64\n",
      "--------------------------------------------------\n"
     ]
    }
   ],
   "source": [
    "print(s[0], end = end_string)\n",
    "# slicing\n",
    "print(s[:3], end =end_string)"
   ]
  },
  {
   "cell_type": "code",
   "execution_count": 14,
   "metadata": {},
   "outputs": [
    {
     "name": "stdout",
     "output_type": "stream",
     "text": [
      "a    1.930498\n",
      "b    0.968153\n",
      "c    1.297900\n",
      "dtype: float64\n",
      "--------------------------------------------------\n",
      "a    6.892944\n",
      "b    2.633077\n",
      "c    3.661598\n",
      "d    0.305914\n",
      "e    0.329588\n",
      "dtype: float64\n",
      "--------------------------------------------------\n"
     ]
    }
   ],
   "source": [
    "# conditional max - index with booleans\n",
    "print(s[ s > s.mean()], end = end_string)\n",
    "# elementwise function - vectorization\n",
    "print(np.exp(s), end = end_string)"
   ]
  },
  {
   "cell_type": "markdown",
   "metadata": {},
   "source": [
    "Series are also like dictionaries - you can access values using index labels"
   ]
  },
  {
   "cell_type": "code",
   "execution_count": 15,
   "metadata": {},
   "outputs": [
    {
     "name": "stdout",
     "output_type": "stream",
     "text": [
      "a    1.930498\n",
      "b    0.968153\n",
      "c    1.297900\n",
      "d   -1.184451\n",
      "e   -1.109911\n",
      "dtype: float64\n",
      "--------------------------------------------------\n",
      "1.9304982464537752\n",
      "--------------------------------------------------\n"
     ]
    }
   ],
   "source": [
    "print(s, end = end_string)\n",
    "print(s['a'], end = end_string)"
   ]
  },
  {
   "cell_type": "code",
   "execution_count": 16,
   "metadata": {},
   "outputs": [
    {
     "name": "stdout",
     "output_type": "stream",
     "text": [
      "a     1.930498\n",
      "b     0.968153\n",
      "c     1.297900\n",
      "d    -1.184451\n",
      "e    12.000000\n",
      "dtype: float64\n",
      "--------------------------------------------------\n",
      "True\n",
      "--------------------------------------------------\n",
      "None\n",
      "--------------------------------------------------\n",
      "12.0\n",
      "--------------------------------------------------\n"
     ]
    }
   ],
   "source": [
    "s['e'] = 12 # set element using index label\n",
    "print(s, end = end_string)\n",
    "print('e' in s, end = end_string) # check for index label\n",
    "print(s.get('f', None), end = end_string) # get item with index 'f' - if no such item return None\n",
    "print(s.get('e', None), end = end_string)"
   ]
  },
  {
   "cell_type": "markdown",
   "metadata": {},
   "source": [
    "### Series Attributes:\n",
    "\n",
    "- Get the index : \n",
    "```python \n",
    "s.index ``` \n",
    "- Get the values :\n",
    "``` python \n",
    "s.values ``` \n",
    "- Find the shape : \n",
    "``` python \n",
    "s.shape ``` \n",
    "\n",
    "### Series Iteration"
   ]
  },
  {
   "cell_type": "code",
   "execution_count": 17,
   "metadata": {},
   "outputs": [
    {
     "name": "stdout",
     "output_type": "stream",
     "text": [
      "a 1.9304982464537752\n",
      "b 0.9681530095751932\n",
      "c 1.2978996619630634\n",
      "d -1.1844512202276005\n",
      "e 12.0\n"
     ]
    }
   ],
   "source": [
    "for idx,val in s.iteritems():\n",
    "    print(idx,val)"
   ]
  },
  {
   "cell_type": "markdown",
   "metadata": {},
   "source": [
    "Sort by index or by value"
   ]
  },
  {
   "cell_type": "code",
   "execution_count": 18,
   "metadata": {},
   "outputs": [
    {
     "name": "stdout",
     "output_type": "stream",
     "text": [
      "a     1.930498\n",
      "b     0.968153\n",
      "c     1.297900\n",
      "d    -1.184451\n",
      "e    12.000000\n",
      "dtype: float64\n",
      "--------------------------------------------------\n",
      "d    -1.184451\n",
      "b     0.968153\n",
      "c     1.297900\n",
      "a     1.930498\n",
      "e    12.000000\n",
      "dtype: float64\n",
      "--------------------------------------------------\n"
     ]
    }
   ],
   "source": [
    "print(s.sort_index(), end = end_string)\n",
    "print(s.sort_values(), end = end_string)"
   ]
  },
  {
   "cell_type": "markdown",
   "metadata": {},
   "source": [
    "Find counts of unique values"
   ]
  },
  {
   "cell_type": "code",
   "execution_count": 19,
   "metadata": {},
   "outputs": [
    {
     "name": "stdout",
     "output_type": "stream",
     "text": [
      "2    4\n",
      "0    3\n",
      "1    3\n",
      "dtype: int64\n"
     ]
    }
   ],
   "source": [
    "s = pd.Series([0,0,0,1,1,1,2,2,2,2])\n",
    "sct = s.value_counts() # what is the type of sct?\n",
    "print(sct)"
   ]
  },
  {
   "cell_type": "markdown",
   "metadata": {},
   "source": [
    "You can do just about anything you can do with a numpy array\n",
    "\n",
    "- Series.mean()\n",
    "- Series.median()\n",
    "- Series.mode()\n",
    "- Series.nsmallest(num)\n",
    "- Series.max ..."
   ]
  },
  {
   "cell_type": "code",
   "execution_count": 20,
   "metadata": {},
   "outputs": [
    {
     "name": "stdout",
     "output_type": "stream",
     "text": [
      "0\n",
      "--------------------------------------------------\n",
      "2\n",
      "--------------------------------------------------\n"
     ]
    }
   ],
   "source": [
    "print(s.min(),end = end_string)\n",
    "print(s.max(), end = end_string)"
   ]
  },
  {
   "cell_type": "markdown",
   "metadata": {},
   "source": [
    "# DataFrame\n",
    "- DataFrame is a 2-dimensional labeled data structure with columns of potentially different types. You can think of it like a spreadsheet or SQL table, or a dict of Series objects. It is generally the most commonly used pandas object.\n",
    "- You can create a DataFrame from:\n",
    "    - Dict of 1D ndarrays, lists, dicts, or Series\n",
    "    - 2-D numpy array\n",
    "    - A list of dictionaries\n",
    "    - A Series\n",
    "    - Another Dataframe\n",
    "``` python\n",
    "df = pd.DataFrame(data, index = index, columns = columns)\n",
    "```\n",
    "- ```index```/ ``` columns ``` is a list of the row/ column labels. If you pass an index and/ or columns, you are guarenteeing the index and /or column of the df. \n",
    "- If you do not pass anything in, the input will be constructed by \"common sense\" rules\n",
    "\n",
    "[**pandas.DataFrame**](http://pandas.pydata.org/pandas-docs/stable/generated/pandas.DataFrame.html)\n",
    "\n",
    "# DataFrame Creation From dict of series or dicts\n",
    "- The index of the resulting DataFrame will be the union of the indices of the various Series. If there are any nested dicts, these will be first converted to Series. \n",
    "- If no columns are passed, the columns will be the sorted list of dict keys."
   ]
  },
  {
   "cell_type": "code",
   "execution_count": 21,
   "metadata": {},
   "outputs": [
    {
     "name": "stdout",
     "output_type": "stream",
     "text": [
      "   one  two\n",
      "a  1.0    0\n",
      "b  2.0    1\n",
      "c  3.0    2\n",
      "d  NaN    3\n",
      "--------------------------------------------------\n",
      "   one  two\n",
      "a  1.0    0\n",
      "b  2.0    1\n",
      "c  3.0    2\n",
      "d  NaN    3\n",
      "--------------------------------------------------\n"
     ]
    }
   ],
   "source": [
    "# Create a dictionary of series\n",
    "d = {'one': pd.Series([1,2,3], index  = ['a', 'b', 'c']), \n",
    "     'two': pd.Series(list(range(4)), index = ['a','b', 'c', 'd'])}\n",
    "df = pd.DataFrame(d)\n",
    "print(df, end = end_string)\n",
    "\n",
    "d= {'one': {'a': 1, 'b': 2, 'c':3}, \n",
    "     'two': pd.Series(list(range(4)), index = ['a','b', 'c', 'd'])}\n",
    "# Columns are dictionary keys, indices and values obtained from series\n",
    "df = pd.DataFrame(d)\n",
    "# Notice how it fills the column one with NaN for d\n",
    "print(df, end = end_string)"
   ]
  },
  {
   "cell_type": "code",
   "execution_count": 22,
   "metadata": {},
   "outputs": [
    {
     "name": "stdout",
     "output_type": "stream",
     "text": [
      "   one  two\n",
      "d  NaN    3\n",
      "b  2.0    1\n",
      "a  1.0    0\n",
      "--------------------------------------------------\n",
      "   two three\n",
      "d    3   NaN\n",
      "b    1   NaN\n",
      "a    0   NaN\n",
      "--------------------------------------------------\n"
     ]
    }
   ],
   "source": [
    "d = {'one': pd.Series([1,2,3], index  = ['a', 'b', 'c']), \n",
    "     'two': pd.Series(list(range(4)), index = ['a','b', 'c', 'd'])}\n",
    "\n",
    "print(pd.DataFrame(d, index = ['d', 'b', 'a']), end = end_string)\n",
    "print(pd.DataFrame(d, index = ['d', 'b', 'a'], columns = ['two', 'three']),\n",
    "      end = end_string)"
   ]
  },
  {
   "cell_type": "code",
   "execution_count": 23,
   "metadata": {},
   "outputs": [
    {
     "name": "stdout",
     "output_type": "stream",
     "text": [
      "Index(['a', 'b', 'c', 'd'], dtype='object')\n",
      "--------------------------------------------------\n",
      "Index(['one', 'two'], dtype='object')\n",
      "--------------------------------------------------\n",
      "(4, 2)\n"
     ]
    }
   ],
   "source": [
    "# Accessing attributes\n",
    "print(df.index, end = end_string)\n",
    "print(df.columns,end = end_string)\n",
    "print(df.shape)"
   ]
  },
  {
   "cell_type": "markdown",
   "metadata": {},
   "source": [
    "# From dict of ndarray / lists\n",
    "- The ndarrays must all be the same length. \n",
    "- If an index is passed, it must clearly also be the same length as the arrays. If no index is passed, the result will be range(n), where n is the array length."
   ]
  },
  {
   "cell_type": "code",
   "execution_count": 24,
   "metadata": {},
   "outputs": [
    {
     "data": {
      "text/html": [
       "<div>\n",
       "<style scoped>\n",
       "    .dataframe tbody tr th:only-of-type {\n",
       "        vertical-align: middle;\n",
       "    }\n",
       "\n",
       "    .dataframe tbody tr th {\n",
       "        vertical-align: top;\n",
       "    }\n",
       "\n",
       "    .dataframe thead th {\n",
       "        text-align: right;\n",
       "    }\n",
       "</style>\n",
       "<table border=\"1\" class=\"dataframe\">\n",
       "  <thead>\n",
       "    <tr style=\"text-align: right;\">\n",
       "      <th></th>\n",
       "      <th>one</th>\n",
       "      <th>two</th>\n",
       "    </tr>\n",
       "  </thead>\n",
       "  <tbody>\n",
       "    <tr>\n",
       "      <th>0</th>\n",
       "      <td>1.0</td>\n",
       "      <td>4.0</td>\n",
       "    </tr>\n",
       "    <tr>\n",
       "      <th>1</th>\n",
       "      <td>2.0</td>\n",
       "      <td>3.0</td>\n",
       "    </tr>\n",
       "    <tr>\n",
       "      <th>2</th>\n",
       "      <td>3.0</td>\n",
       "      <td>2.0</td>\n",
       "    </tr>\n",
       "    <tr>\n",
       "      <th>3</th>\n",
       "      <td>4.0</td>\n",
       "      <td>1.0</td>\n",
       "    </tr>\n",
       "  </tbody>\n",
       "</table>\n",
       "</div>"
      ],
      "text/plain": [
       "   one  two\n",
       "0  1.0  4.0\n",
       "1  2.0  3.0\n",
       "2  3.0  2.0\n",
       "3  4.0  1.0"
      ]
     },
     "execution_count": 24,
     "metadata": {},
     "output_type": "execute_result"
    }
   ],
   "source": [
    "d = {'one' : [1., 2., 3., 4.], 'two' : [4., 3., 2., 1.]}\n",
    "pd.DataFrame(d)"
   ]
  },
  {
   "cell_type": "markdown",
   "metadata": {},
   "source": [
    "# From a list of dicts"
   ]
  },
  {
   "cell_type": "code",
   "execution_count": 25,
   "metadata": {},
   "outputs": [
    {
     "data": {
      "text/plain": [
       "[{'Column0': 60, 'Column1': 14, 'Column2': 12, 'Column3': 92, 'Column4': 11},\n",
       " {'Column0': 18, 'Column1': 60, 'Column2': 46, 'Column3': 41, 'Column4': 58},\n",
       " {'Column0': 30, 'Column1': 33, 'Column2': 89, 'Column3': 56, 'Column4': 31},\n",
       " {'Column0': 97, 'Column1': 77, 'Column2': 38, 'Column3': 99, 'Column4': 98},\n",
       " {'Column0': 77, 'Column1': 96, 'Column2': 31, 'Column3': 92, 'Column4': 58}]"
      ]
     },
     "execution_count": 25,
     "metadata": {},
     "output_type": "execute_result"
    }
   ],
   "source": [
    "data = []\n",
    "for i in range(100):\n",
    "    data += [ {'Column' + str(j):np.random.randint(100) for j in range(5)} ]\n",
    "    # dictionary comprehension!\n",
    "    \n",
    "data[:5]"
   ]
  },
  {
   "cell_type": "code",
   "execution_count": 26,
   "metadata": {},
   "outputs": [
    {
     "name": "stdout",
     "output_type": "stream",
     "text": [
      "   Column0  Column1  Column2  Column3  Column4\n",
      "0       60       14       12       92       11\n",
      "1       18       60       46       41       58\n",
      "2       30       33       89       56       31\n",
      "3       97       77       38       99       98\n",
      "4       77       96       31       92       58\n",
      "--------------------------------------------------\n"
     ]
    }
   ],
   "source": [
    "# Creation from a list of dicts\n",
    "df = pd.DataFrame(data)\n",
    "print(df.head(), end = end_string)"
   ]
  },
  {
   "cell_type": "code",
   "execution_count": 27,
   "metadata": {},
   "outputs": [
    {
     "name": "stdout",
     "output_type": "stream",
     "text": [
      "   Column0  Column1\n",
      "0       60       14\n",
      "1       18       60\n",
      "2       30       33\n",
      "3       97       77\n",
      "4       77       96\n",
      "--------------------------------------------------\n"
     ]
    }
   ],
   "source": [
    "# Only certain columns\n",
    "df = pd.DataFrame(data, columns = ['Column0', 'Column1'])\n",
    "print(df.head(), end = end_string)"
   ]
  },
  {
   "cell_type": "markdown",
   "metadata": {},
   "source": [
    "## Attributes\n",
    "\n",
    "- ``` df.index ``` : the row index of df\n",
    "- ``` df.columns ``` : the columns of df\n",
    "- ``` df.shape ``` : the shape of the df\n",
    "- ``` df.values ``` : numpy array of values"
   ]
  },
  {
   "cell_type": "code",
   "execution_count": 28,
   "metadata": {},
   "outputs": [
    {
     "name": "stdout",
     "output_type": "stream",
     "text": [
      "   one  two  three   flag\n",
      "a  1.0    0    0.0  False\n",
      "b  2.0    1    2.0  False\n",
      "c  3.0    2    6.0   True\n",
      "d  NaN    3    NaN  False\n"
     ]
    }
   ],
   "source": [
    "# Adding and accessing columns \n",
    "d = {'one': pd.Series([1,2,3], index  = ['a', 'b', 'c']), \n",
    "     'two': pd.Series(range(4), index = ['a','b', 'c', 'd'])}\n",
    "df = pd.DataFrame(d)\n",
    "# multiply \n",
    "df['three'] =  df['one']*df['two']\n",
    "# Create a boolean flag\n",
    "df['flag'] = df['one'] > 2\n",
    "print(df.head())"
   ]
  },
  {
   "cell_type": "code",
   "execution_count": 29,
   "metadata": {},
   "outputs": [
    {
     "name": "stdout",
     "output_type": "stream",
     "text": [
      "   one  bar  two  three   flag\n",
      "a  1.0  1.0    0    0.0  False\n",
      "b  2.0  2.0    1    2.0  False\n",
      "c  3.0  NaN    2    6.0   True\n",
      "d  NaN  NaN    3    NaN  False\n"
     ]
    }
   ],
   "source": [
    "# inserting column in specified location, with values\n",
    "df.insert(1, 'bar', df['one'][:2])\n",
    "print(df.head())"
   ]
  },
  {
   "cell_type": "code",
   "execution_count": 30,
   "metadata": {},
   "outputs": [
    {
     "name": "stdout",
     "output_type": "stream",
     "text": [
      "   one  bar  two   flag\n",
      "a  1.0  1.0    0  False\n",
      "b  2.0  2.0    1  False\n",
      "c  3.0  NaN    2   True\n",
      "d  NaN  NaN    3  False\n",
      "--------------------------------------------------\n",
      "   one  bar  two   flag  foo\n",
      "a  1.0  1.0    0  False  bar\n",
      "b  2.0  2.0    1  False  bar\n",
      "c  3.0  NaN    2   True  bar\n",
      "d  NaN  NaN    3  False  bar\n",
      "--------------------------------------------------\n"
     ]
    }
   ],
   "source": [
    "# Deleting Columns  \n",
    "three = df.pop('three')\n",
    "print(df.head(), end = end_string)\n",
    "# Propation of values\n",
    "df['foo'] = 'bar'\n",
    "print(df, end = end_string)"
   ]
  },
  {
   "cell_type": "markdown",
   "metadata": {},
   "source": [
    "## Indexing and Selection \n",
    "\n",
    "- 4 methods ``` [], ix, iloc, loc ```\n",
    "\n",
    "| Operation  | Syntax       | Result | \n",
    "|----|----------------------| ---------------------------|\n",
    "| Select Column | df[col]   |    Series                      |\n",
    "| Select Row by Label | df.loc[label] | Series  |\n",
    "| Select Row by Integer Location | df.iloc[idx] |      Series                    |\n",
    "| Slice rows | df[5:10]        |                        DataFrame  | \n",
    "| Select rows by boolean | df[mask]   | DataFrame        |\n",
    "\n",
    "- Note all the operations below are valid on series as well restricted to one dimension"
   ]
  },
  {
   "cell_type": "markdown",
   "metadata": {},
   "source": [
    "## Simplest form Of Indexing: []\n",
    "- Series: selecting a label: s[label] \n",
    "- DataFrame: selection single or multiple columns: \n",
    "``` python \n",
    "df['col'] or df[['col1', 'col2']] ``` \n",
    "- DataFrame: slicing the rows:\n",
    "``` python\n",
    "df['rowlabel1': 'rowlabel2'] ``` \n",
    "or \n",
    "``` python \n",
    "df[boolean_mask] ``` "
   ]
  },
  {
   "cell_type": "code",
   "execution_count": 31,
   "metadata": {},
   "outputs": [
    {
     "data": {
      "text/html": [
       "<div>\n",
       "<style scoped>\n",
       "    .dataframe tbody tr th:only-of-type {\n",
       "        vertical-align: middle;\n",
       "    }\n",
       "\n",
       "    .dataframe tbody tr th {\n",
       "        vertical-align: top;\n",
       "    }\n",
       "\n",
       "    .dataframe thead th {\n",
       "        text-align: right;\n",
       "    }\n",
       "</style>\n",
       "<table border=\"1\" class=\"dataframe\">\n",
       "  <thead>\n",
       "    <tr style=\"text-align: right;\">\n",
       "      <th></th>\n",
       "      <th>A</th>\n",
       "      <th>B</th>\n",
       "      <th>C</th>\n",
       "      <th>D</th>\n",
       "    </tr>\n",
       "  </thead>\n",
       "  <tbody>\n",
       "    <tr>\n",
       "      <th>2000-01-01</th>\n",
       "      <td>-0.432992</td>\n",
       "      <td>0.794524</td>\n",
       "      <td>-0.981488</td>\n",
       "      <td>0.807006</td>\n",
       "    </tr>\n",
       "    <tr>\n",
       "      <th>2000-01-02</th>\n",
       "      <td>-1.313710</td>\n",
       "      <td>-0.393522</td>\n",
       "      <td>-0.760703</td>\n",
       "      <td>-0.070385</td>\n",
       "    </tr>\n",
       "    <tr>\n",
       "      <th>...</th>\n",
       "      <td>...</td>\n",
       "      <td>...</td>\n",
       "      <td>...</td>\n",
       "      <td>...</td>\n",
       "    </tr>\n",
       "    <tr>\n",
       "      <th>2000-01-07</th>\n",
       "      <td>0.769624</td>\n",
       "      <td>-0.245291</td>\n",
       "      <td>-0.527275</td>\n",
       "      <td>1.233888</td>\n",
       "    </tr>\n",
       "    <tr>\n",
       "      <th>2000-01-08</th>\n",
       "      <td>1.099851</td>\n",
       "      <td>-1.424226</td>\n",
       "      <td>-1.303412</td>\n",
       "      <td>-2.493087</td>\n",
       "    </tr>\n",
       "  </tbody>\n",
       "</table>\n",
       "<p>8 rows × 4 columns</p>\n",
       "</div>"
      ],
      "text/plain": [
       "                   A         B         C         D\n",
       "2000-01-01 -0.432992  0.794524 -0.981488  0.807006\n",
       "2000-01-02 -1.313710 -0.393522 -0.760703 -0.070385\n",
       "...              ...       ...       ...       ...\n",
       "2000-01-07  0.769624 -0.245291 -0.527275  1.233888\n",
       "2000-01-08  1.099851 -1.424226 -1.303412 -2.493087\n",
       "\n",
       "[8 rows x 4 columns]"
      ]
     },
     "execution_count": 31,
     "metadata": {},
     "output_type": "execute_result"
    }
   ],
   "source": [
    "# Lets create a data frame\n",
    "pd.options.display.max_rows = 4\n",
    "dates = pd.date_range('1/1/2000', periods=8)\n",
    "df = pd.DataFrame(np.random.randn(8, 4), index=dates, columns=['A', 'B', 'C','D'])\n",
    "df"
   ]
  },
  {
   "cell_type": "code",
   "execution_count": 32,
   "metadata": {},
   "outputs": [
    {
     "data": {
      "text/plain": [
       "2000-01-01   -0.432992\n",
       "2000-01-02   -1.313710\n",
       "                ...   \n",
       "2000-01-07    0.769624\n",
       "2000-01-08    1.099851\n",
       "Freq: D, Name: A, Length: 8, dtype: float64"
      ]
     },
     "execution_count": 32,
     "metadata": {},
     "output_type": "execute_result"
    }
   ],
   "source": [
    "# column  'A\n",
    "df['A']"
   ]
  },
  {
   "cell_type": "code",
   "execution_count": 33,
   "metadata": {},
   "outputs": [
    {
     "data": {
      "text/html": [
       "<div>\n",
       "<style scoped>\n",
       "    .dataframe tbody tr th:only-of-type {\n",
       "        vertical-align: middle;\n",
       "    }\n",
       "\n",
       "    .dataframe tbody tr th {\n",
       "        vertical-align: top;\n",
       "    }\n",
       "\n",
       "    .dataframe thead th {\n",
       "        text-align: right;\n",
       "    }\n",
       "</style>\n",
       "<table border=\"1\" class=\"dataframe\">\n",
       "  <thead>\n",
       "    <tr style=\"text-align: right;\">\n",
       "      <th></th>\n",
       "      <th>A</th>\n",
       "      <th>B</th>\n",
       "    </tr>\n",
       "  </thead>\n",
       "  <tbody>\n",
       "    <tr>\n",
       "      <th>2000-01-01</th>\n",
       "      <td>-0.432992</td>\n",
       "      <td>0.794524</td>\n",
       "    </tr>\n",
       "    <tr>\n",
       "      <th>2000-01-02</th>\n",
       "      <td>-1.313710</td>\n",
       "      <td>-0.393522</td>\n",
       "    </tr>\n",
       "    <tr>\n",
       "      <th>...</th>\n",
       "      <td>...</td>\n",
       "      <td>...</td>\n",
       "    </tr>\n",
       "    <tr>\n",
       "      <th>2000-01-07</th>\n",
       "      <td>0.769624</td>\n",
       "      <td>-0.245291</td>\n",
       "    </tr>\n",
       "    <tr>\n",
       "      <th>2000-01-08</th>\n",
       "      <td>1.099851</td>\n",
       "      <td>-1.424226</td>\n",
       "    </tr>\n",
       "  </tbody>\n",
       "</table>\n",
       "<p>8 rows × 2 columns</p>\n",
       "</div>"
      ],
      "text/plain": [
       "                   A         B\n",
       "2000-01-01 -0.432992  0.794524\n",
       "2000-01-02 -1.313710 -0.393522\n",
       "...              ...       ...\n",
       "2000-01-07  0.769624 -0.245291\n",
       "2000-01-08  1.099851 -1.424226\n",
       "\n",
       "[8 rows x 2 columns]"
      ]
     },
     "execution_count": 33,
     "metadata": {},
     "output_type": "execute_result"
    }
   ],
   "source": [
    "# multiple column \n",
    "df[['A', 'B']]"
   ]
  },
  {
   "cell_type": "code",
   "execution_count": 34,
   "metadata": {},
   "outputs": [
    {
     "data": {
      "text/html": [
       "<div>\n",
       "<style scoped>\n",
       "    .dataframe tbody tr th:only-of-type {\n",
       "        vertical-align: middle;\n",
       "    }\n",
       "\n",
       "    .dataframe tbody tr th {\n",
       "        vertical-align: top;\n",
       "    }\n",
       "\n",
       "    .dataframe thead th {\n",
       "        text-align: right;\n",
       "    }\n",
       "</style>\n",
       "<table border=\"1\" class=\"dataframe\">\n",
       "  <thead>\n",
       "    <tr style=\"text-align: right;\">\n",
       "      <th></th>\n",
       "      <th>A</th>\n",
       "      <th>B</th>\n",
       "      <th>C</th>\n",
       "      <th>D</th>\n",
       "    </tr>\n",
       "  </thead>\n",
       "  <tbody>\n",
       "    <tr>\n",
       "      <th>2000-01-01</th>\n",
       "      <td>-0.432992</td>\n",
       "      <td>0.794524</td>\n",
       "      <td>-0.981488</td>\n",
       "      <td>0.807006</td>\n",
       "    </tr>\n",
       "    <tr>\n",
       "      <th>2000-01-02</th>\n",
       "      <td>-1.313710</td>\n",
       "      <td>-0.393522</td>\n",
       "      <td>-0.760703</td>\n",
       "      <td>-0.070385</td>\n",
       "    </tr>\n",
       "    <tr>\n",
       "      <th>2000-01-03</th>\n",
       "      <td>-0.117084</td>\n",
       "      <td>0.302993</td>\n",
       "      <td>1.811664</td>\n",
       "      <td>-0.210843</td>\n",
       "    </tr>\n",
       "    <tr>\n",
       "      <th>2000-01-04</th>\n",
       "      <td>-1.854133</td>\n",
       "      <td>0.322544</td>\n",
       "      <td>-1.448375</td>\n",
       "      <td>-0.536139</td>\n",
       "    </tr>\n",
       "  </tbody>\n",
       "</table>\n",
       "</div>"
      ],
      "text/plain": [
       "                   A         B         C         D\n",
       "2000-01-01 -0.432992  0.794524 -0.981488  0.807006\n",
       "2000-01-02 -1.313710 -0.393522 -0.760703 -0.070385\n",
       "2000-01-03 -0.117084  0.302993  1.811664 -0.210843\n",
       "2000-01-04 -1.854133  0.322544 -1.448375 -0.536139"
      ]
     },
     "execution_count": 34,
     "metadata": {},
     "output_type": "execute_result"
    }
   ],
   "source": [
    "# slice by rows\n",
    "df['2000-01-01': '2000-01-04']"
   ]
  },
  {
   "cell_type": "code",
   "execution_count": 35,
   "metadata": {},
   "outputs": [
    {
     "data": {
      "text/html": [
       "<div>\n",
       "<style scoped>\n",
       "    .dataframe tbody tr th:only-of-type {\n",
       "        vertical-align: middle;\n",
       "    }\n",
       "\n",
       "    .dataframe tbody tr th {\n",
       "        vertical-align: top;\n",
       "    }\n",
       "\n",
       "    .dataframe thead th {\n",
       "        text-align: right;\n",
       "    }\n",
       "</style>\n",
       "<table border=\"1\" class=\"dataframe\">\n",
       "  <thead>\n",
       "    <tr style=\"text-align: right;\">\n",
       "      <th></th>\n",
       "      <th>A</th>\n",
       "      <th>B</th>\n",
       "      <th>C</th>\n",
       "      <th>D</th>\n",
       "    </tr>\n",
       "  </thead>\n",
       "  <tbody>\n",
       "    <tr>\n",
       "      <th>2000-01-06</th>\n",
       "      <td>0.960818</td>\n",
       "      <td>-0.981920</td>\n",
       "      <td>1.289727</td>\n",
       "      <td>0.394615</td>\n",
       "    </tr>\n",
       "    <tr>\n",
       "      <th>2000-01-07</th>\n",
       "      <td>0.769624</td>\n",
       "      <td>-0.245291</td>\n",
       "      <td>-0.527275</td>\n",
       "      <td>1.233888</td>\n",
       "    </tr>\n",
       "    <tr>\n",
       "      <th>2000-01-08</th>\n",
       "      <td>1.099851</td>\n",
       "      <td>-1.424226</td>\n",
       "      <td>-1.303412</td>\n",
       "      <td>-2.493087</td>\n",
       "    </tr>\n",
       "  </tbody>\n",
       "</table>\n",
       "</div>"
      ],
      "text/plain": [
       "                   A         B         C         D\n",
       "2000-01-06  0.960818 -0.981920  1.289727  0.394615\n",
       "2000-01-07  0.769624 -0.245291 -0.527275  1.233888\n",
       "2000-01-08  1.099851 -1.424226 -1.303412 -2.493087"
      ]
     },
     "execution_count": 35,
     "metadata": {},
     "output_type": "execute_result"
    }
   ],
   "source": [
    "# boolean mask \n",
    "df[df['A'] > df['B']].head()"
   ]
  },
  {
   "cell_type": "code",
   "execution_count": 36,
   "metadata": {},
   "outputs": [
    {
     "data": {
      "text/html": [
       "<div>\n",
       "<style scoped>\n",
       "    .dataframe tbody tr th:only-of-type {\n",
       "        vertical-align: middle;\n",
       "    }\n",
       "\n",
       "    .dataframe tbody tr th {\n",
       "        vertical-align: top;\n",
       "    }\n",
       "\n",
       "    .dataframe thead th {\n",
       "        text-align: right;\n",
       "    }\n",
       "</style>\n",
       "<table border=\"1\" class=\"dataframe\">\n",
       "  <thead>\n",
       "    <tr style=\"text-align: right;\">\n",
       "      <th></th>\n",
       "      <th>A</th>\n",
       "      <th>B</th>\n",
       "      <th>C</th>\n",
       "      <th>D</th>\n",
       "    </tr>\n",
       "  </thead>\n",
       "  <tbody>\n",
       "    <tr>\n",
       "      <th>2000-01-01</th>\n",
       "      <td>0.794524</td>\n",
       "      <td>0.794524</td>\n",
       "      <td>-0.981488</td>\n",
       "      <td>0.807006</td>\n",
       "    </tr>\n",
       "    <tr>\n",
       "      <th>2000-01-02</th>\n",
       "      <td>-0.393522</td>\n",
       "      <td>-0.393522</td>\n",
       "      <td>-0.760703</td>\n",
       "      <td>-0.070385</td>\n",
       "    </tr>\n",
       "    <tr>\n",
       "      <th>...</th>\n",
       "      <td>...</td>\n",
       "      <td>...</td>\n",
       "      <td>...</td>\n",
       "      <td>...</td>\n",
       "    </tr>\n",
       "    <tr>\n",
       "      <th>2000-01-04</th>\n",
       "      <td>0.322544</td>\n",
       "      <td>0.322544</td>\n",
       "      <td>-1.448375</td>\n",
       "      <td>-0.536139</td>\n",
       "    </tr>\n",
       "    <tr>\n",
       "      <th>2000-01-05</th>\n",
       "      <td>0.037655</td>\n",
       "      <td>0.037655</td>\n",
       "      <td>0.613117</td>\n",
       "      <td>-0.676744</td>\n",
       "    </tr>\n",
       "  </tbody>\n",
       "</table>\n",
       "<p>5 rows × 4 columns</p>\n",
       "</div>"
      ],
      "text/plain": [
       "                   A         B         C         D\n",
       "2000-01-01  0.794524  0.794524 -0.981488  0.807006\n",
       "2000-01-02 -0.393522 -0.393522 -0.760703 -0.070385\n",
       "...              ...       ...       ...       ...\n",
       "2000-01-04  0.322544  0.322544 -1.448375 -0.536139\n",
       "2000-01-05  0.037655  0.037655  0.613117 -0.676744\n",
       "\n",
       "[5 rows x 4 columns]"
      ]
     },
     "execution_count": 36,
     "metadata": {},
     "output_type": "execute_result"
    }
   ],
   "source": [
    "### You can also access a column by df.colname\n",
    "df.A\n",
    "# Assign via []\n",
    "df['A'] = df['B'].values\n",
    "df.head()"
   ]
  },
  {
   "cell_type": "code",
   "execution_count": 37,
   "metadata": {},
   "outputs": [
    {
     "data": {
      "text/plain": [
       "2000-01-01    0.794524\n",
       "2000-01-02   -0.393522\n",
       "                ...   \n",
       "2000-01-07   -0.245291\n",
       "2000-01-08   -1.424226\n",
       "Freq: D, Name: A, Length: 8, dtype: float64"
      ]
     },
     "execution_count": 37,
     "metadata": {},
     "output_type": "execute_result"
    }
   ],
   "source": [
    "df.A"
   ]
  },
  {
   "cell_type": "markdown",
   "metadata": {},
   "source": [
    "## Selecting by label .loc\n",
    "\n",
    "- is primarily label based, but may also be used with a boolean array.\n",
    "- .loc will raise KeyError when the items are not found\n",
    "- Allowed inputs:\n",
    "    1. A single label \n",
    "    2. A list of labels\n",
    "    3. A boolean array"
   ]
  },
  {
   "cell_type": "code",
   "execution_count": 38,
   "metadata": {},
   "outputs": [
    {
     "data": {
      "text/plain": [
       "A    0.794524\n",
       "B    0.794524\n",
       "C   -0.981488\n",
       "D    0.807006\n",
       "Name: 2000-01-01 00:00:00, dtype: float64"
      ]
     },
     "execution_count": 38,
     "metadata": {},
     "output_type": "execute_result"
    }
   ],
   "source": [
    "## Selection by label .loc\n",
    "df.loc['2000-01-01']"
   ]
  },
  {
   "cell_type": "code",
   "execution_count": 39,
   "metadata": {},
   "outputs": [
    {
     "data": {
      "text/html": [
       "<div>\n",
       "<style scoped>\n",
       "    .dataframe tbody tr th:only-of-type {\n",
       "        vertical-align: middle;\n",
       "    }\n",
       "\n",
       "    .dataframe tbody tr th {\n",
       "        vertical-align: top;\n",
       "    }\n",
       "\n",
       "    .dataframe thead th {\n",
       "        text-align: right;\n",
       "    }\n",
       "</style>\n",
       "<table border=\"1\" class=\"dataframe\">\n",
       "  <thead>\n",
       "    <tr style=\"text-align: right;\">\n",
       "      <th></th>\n",
       "      <th>A</th>\n",
       "      <th>B</th>\n",
       "    </tr>\n",
       "  </thead>\n",
       "  <tbody>\n",
       "    <tr>\n",
       "      <th>2000-01-01</th>\n",
       "      <td>0.794524</td>\n",
       "      <td>0.794524</td>\n",
       "    </tr>\n",
       "    <tr>\n",
       "      <th>2000-01-02</th>\n",
       "      <td>-0.393522</td>\n",
       "      <td>-0.393522</td>\n",
       "    </tr>\n",
       "    <tr>\n",
       "      <th>...</th>\n",
       "      <td>...</td>\n",
       "      <td>...</td>\n",
       "    </tr>\n",
       "    <tr>\n",
       "      <th>2000-01-07</th>\n",
       "      <td>-0.245291</td>\n",
       "      <td>-0.245291</td>\n",
       "    </tr>\n",
       "    <tr>\n",
       "      <th>2000-01-08</th>\n",
       "      <td>-1.424226</td>\n",
       "      <td>-1.424226</td>\n",
       "    </tr>\n",
       "  </tbody>\n",
       "</table>\n",
       "<p>8 rows × 2 columns</p>\n",
       "</div>"
      ],
      "text/plain": [
       "                   A         B\n",
       "2000-01-01  0.794524  0.794524\n",
       "2000-01-02 -0.393522 -0.393522\n",
       "...              ...       ...\n",
       "2000-01-07 -0.245291 -0.245291\n",
       "2000-01-08 -1.424226 -1.424226\n",
       "\n",
       "[8 rows x 2 columns]"
      ]
     },
     "execution_count": 39,
     "metadata": {},
     "output_type": "execute_result"
    }
   ],
   "source": [
    "# Accessing all greater than a date \n",
    "df.loc['2000-01-01':, ['A', 'B']]"
   ]
  },
  {
   "cell_type": "code",
   "execution_count": 40,
   "metadata": {},
   "outputs": [
    {
     "data": {
      "text/html": [
       "<div>\n",
       "<style scoped>\n",
       "    .dataframe tbody tr th:only-of-type {\n",
       "        vertical-align: middle;\n",
       "    }\n",
       "\n",
       "    .dataframe tbody tr th {\n",
       "        vertical-align: top;\n",
       "    }\n",
       "\n",
       "    .dataframe thead th {\n",
       "        text-align: right;\n",
       "    }\n",
       "</style>\n",
       "<table border=\"1\" class=\"dataframe\">\n",
       "  <thead>\n",
       "    <tr style=\"text-align: right;\">\n",
       "      <th></th>\n",
       "      <th>A</th>\n",
       "      <th>B</th>\n",
       "      <th>D</th>\n",
       "    </tr>\n",
       "  </thead>\n",
       "  <tbody>\n",
       "    <tr>\n",
       "      <th>2000-01-01</th>\n",
       "      <td>0.794524</td>\n",
       "      <td>0.794524</td>\n",
       "      <td>0.807006</td>\n",
       "    </tr>\n",
       "    <tr>\n",
       "      <th>2000-01-02</th>\n",
       "      <td>-0.393522</td>\n",
       "      <td>-0.393522</td>\n",
       "      <td>-0.070385</td>\n",
       "    </tr>\n",
       "    <tr>\n",
       "      <th>...</th>\n",
       "      <td>...</td>\n",
       "      <td>...</td>\n",
       "      <td>...</td>\n",
       "    </tr>\n",
       "    <tr>\n",
       "      <th>2000-01-07</th>\n",
       "      <td>-0.245291</td>\n",
       "      <td>-0.245291</td>\n",
       "      <td>1.233888</td>\n",
       "    </tr>\n",
       "    <tr>\n",
       "      <th>2000-01-08</th>\n",
       "      <td>-1.424226</td>\n",
       "      <td>-1.424226</td>\n",
       "      <td>-2.493087</td>\n",
       "    </tr>\n",
       "  </tbody>\n",
       "</table>\n",
       "<p>8 rows × 3 columns</p>\n",
       "</div>"
      ],
      "text/plain": [
       "                   A         B         D\n",
       "2000-01-01  0.794524  0.794524  0.807006\n",
       "2000-01-02 -0.393522 -0.393522 -0.070385\n",
       "...              ...       ...       ...\n",
       "2000-01-07 -0.245291 -0.245291  1.233888\n",
       "2000-01-08 -1.424226 -1.424226 -2.493087\n",
       "\n",
       "[8 rows x 3 columns]"
      ]
     },
     "execution_count": 40,
     "metadata": {},
     "output_type": "execute_result"
    }
   ],
   "source": [
    "# Get columns for which value is greater than 0 on certain day, get all rows\n",
    "df.loc[:, df.loc['2000-01-01'] > 0]"
   ]
  },
  {
   "cell_type": "markdown",
   "metadata": {},
   "source": [
    "## Selecting by position \n",
    "\n",
    "- The .iloc attribute is the primary access method. The following are valid input:\n",
    "    - An integer\n",
    "    - A list of integers\n",
    "    - A slice \n",
    "    - A boolean array"
   ]
  },
  {
   "cell_type": "code",
   "execution_count": 41,
   "metadata": {},
   "outputs": [
    {
     "data": {
      "text/html": [
       "<div>\n",
       "<style scoped>\n",
       "    .dataframe tbody tr th:only-of-type {\n",
       "        vertical-align: middle;\n",
       "    }\n",
       "\n",
       "    .dataframe tbody tr th {\n",
       "        vertical-align: top;\n",
       "    }\n",
       "\n",
       "    .dataframe thead th {\n",
       "        text-align: right;\n",
       "    }\n",
       "</style>\n",
       "<table border=\"1\" class=\"dataframe\">\n",
       "  <thead>\n",
       "    <tr style=\"text-align: right;\">\n",
       "      <th></th>\n",
       "      <th>0</th>\n",
       "      <th>3</th>\n",
       "      <th>6</th>\n",
       "      <th>9</th>\n",
       "    </tr>\n",
       "  </thead>\n",
       "  <tbody>\n",
       "    <tr>\n",
       "      <th>0</th>\n",
       "      <td>0.687839</td>\n",
       "      <td>-1.484482</td>\n",
       "      <td>0.151833</td>\n",
       "      <td>-0.623265</td>\n",
       "    </tr>\n",
       "    <tr>\n",
       "      <th>2</th>\n",
       "      <td>-0.928222</td>\n",
       "      <td>0.199967</td>\n",
       "      <td>1.673942</td>\n",
       "      <td>-1.207817</td>\n",
       "    </tr>\n",
       "    <tr>\n",
       "      <th>...</th>\n",
       "      <td>...</td>\n",
       "      <td>...</td>\n",
       "      <td>...</td>\n",
       "      <td>...</td>\n",
       "    </tr>\n",
       "    <tr>\n",
       "      <th>8</th>\n",
       "      <td>-1.816738</td>\n",
       "      <td>0.466346</td>\n",
       "      <td>1.636525</td>\n",
       "      <td>1.877947</td>\n",
       "    </tr>\n",
       "    <tr>\n",
       "      <th>10</th>\n",
       "      <td>-0.611674</td>\n",
       "      <td>-0.407246</td>\n",
       "      <td>0.866578</td>\n",
       "      <td>1.028162</td>\n",
       "    </tr>\n",
       "  </tbody>\n",
       "</table>\n",
       "<p>6 rows × 4 columns</p>\n",
       "</div>"
      ],
      "text/plain": [
       "           0         3         6         9\n",
       "0   0.687839 -1.484482  0.151833 -0.623265\n",
       "2  -0.928222  0.199967  1.673942 -1.207817\n",
       "..       ...       ...       ...       ...\n",
       "8  -1.816738  0.466346  1.636525  1.877947\n",
       "10 -0.611674 -0.407246  0.866578  1.028162\n",
       "\n",
       "[6 rows x 4 columns]"
      ]
     },
     "execution_count": 41,
     "metadata": {},
     "output_type": "execute_result"
    }
   ],
   "source": [
    "df1 = pd.DataFrame(np.random.randn(6,4), \n",
    "                   index=list(range(0,12,2)), columns=list(range(0,12,3)))\n",
    "\n",
    "df1"
   ]
  },
  {
   "cell_type": "code",
   "execution_count": 42,
   "metadata": {},
   "outputs": [
    {
     "data": {
      "text/html": [
       "<div>\n",
       "<style scoped>\n",
       "    .dataframe tbody tr th:only-of-type {\n",
       "        vertical-align: middle;\n",
       "    }\n",
       "\n",
       "    .dataframe tbody tr th {\n",
       "        vertical-align: top;\n",
       "    }\n",
       "\n",
       "    .dataframe thead th {\n",
       "        text-align: right;\n",
       "    }\n",
       "</style>\n",
       "<table border=\"1\" class=\"dataframe\">\n",
       "  <thead>\n",
       "    <tr style=\"text-align: right;\">\n",
       "      <th></th>\n",
       "      <th>0</th>\n",
       "      <th>3</th>\n",
       "      <th>6</th>\n",
       "      <th>9</th>\n",
       "    </tr>\n",
       "  </thead>\n",
       "  <tbody>\n",
       "    <tr>\n",
       "      <th>0</th>\n",
       "      <td>0.687839</td>\n",
       "      <td>-1.484482</td>\n",
       "      <td>0.151833</td>\n",
       "      <td>-0.623265</td>\n",
       "    </tr>\n",
       "    <tr>\n",
       "      <th>2</th>\n",
       "      <td>-0.928222</td>\n",
       "      <td>0.199967</td>\n",
       "      <td>1.673942</td>\n",
       "      <td>-1.207817</td>\n",
       "    </tr>\n",
       "    <tr>\n",
       "      <th>4</th>\n",
       "      <td>-1.294674</td>\n",
       "      <td>1.134818</td>\n",
       "      <td>-0.549878</td>\n",
       "      <td>0.384386</td>\n",
       "    </tr>\n",
       "  </tbody>\n",
       "</table>\n",
       "</div>"
      ],
      "text/plain": [
       "          0         3         6         9\n",
       "0  0.687839 -1.484482  0.151833 -0.623265\n",
       "2 -0.928222  0.199967  1.673942 -1.207817\n",
       "4 -1.294674  1.134818 -0.549878  0.384386"
      ]
     },
     "execution_count": 42,
     "metadata": {},
     "output_type": "execute_result"
    }
   ],
   "source": [
    "# rows 0-2\n",
    "df1.iloc[:3]"
   ]
  },
  {
   "cell_type": "code",
   "execution_count": 43,
   "metadata": {},
   "outputs": [
    {
     "data": {
      "text/html": [
       "<div>\n",
       "<style scoped>\n",
       "    .dataframe tbody tr th:only-of-type {\n",
       "        vertical-align: middle;\n",
       "    }\n",
       "\n",
       "    .dataframe tbody tr th {\n",
       "        vertical-align: top;\n",
       "    }\n",
       "\n",
       "    .dataframe thead th {\n",
       "        text-align: right;\n",
       "    }\n",
       "</style>\n",
       "<table border=\"1\" class=\"dataframe\">\n",
       "  <thead>\n",
       "    <tr style=\"text-align: right;\">\n",
       "      <th></th>\n",
       "      <th>6</th>\n",
       "      <th>9</th>\n",
       "    </tr>\n",
       "  </thead>\n",
       "  <tbody>\n",
       "    <tr>\n",
       "      <th>2</th>\n",
       "      <td>1.673942</td>\n",
       "      <td>-1.207817</td>\n",
       "    </tr>\n",
       "    <tr>\n",
       "      <th>4</th>\n",
       "      <td>-0.549878</td>\n",
       "      <td>0.384386</td>\n",
       "    </tr>\n",
       "    <tr>\n",
       "      <th>6</th>\n",
       "      <td>2.579477</td>\n",
       "      <td>-0.001474</td>\n",
       "    </tr>\n",
       "    <tr>\n",
       "      <th>8</th>\n",
       "      <td>1.636525</td>\n",
       "      <td>1.877947</td>\n",
       "    </tr>\n",
       "  </tbody>\n",
       "</table>\n",
       "</div>"
      ],
      "text/plain": [
       "          6         9\n",
       "2  1.673942 -1.207817\n",
       "4 -0.549878  0.384386\n",
       "6  2.579477 -0.001474\n",
       "8  1.636525  1.877947"
      ]
     },
     "execution_count": 43,
     "metadata": {},
     "output_type": "execute_result"
    }
   ],
   "source": [
    "#  rows 1:4  and columns 2 : 4\n",
    "df1.iloc[1:5, 2:4]"
   ]
  },
  {
   "cell_type": "code",
   "execution_count": 44,
   "metadata": {},
   "outputs": [
    {
     "data": {
      "text/html": [
       "<div>\n",
       "<style scoped>\n",
       "    .dataframe tbody tr th:only-of-type {\n",
       "        vertical-align: middle;\n",
       "    }\n",
       "\n",
       "    .dataframe tbody tr th {\n",
       "        vertical-align: top;\n",
       "    }\n",
       "\n",
       "    .dataframe thead th {\n",
       "        text-align: right;\n",
       "    }\n",
       "</style>\n",
       "<table border=\"1\" class=\"dataframe\">\n",
       "  <thead>\n",
       "    <tr style=\"text-align: right;\">\n",
       "      <th></th>\n",
       "      <th>3</th>\n",
       "      <th>9</th>\n",
       "    </tr>\n",
       "  </thead>\n",
       "  <tbody>\n",
       "    <tr>\n",
       "      <th>2</th>\n",
       "      <td>0.199967</td>\n",
       "      <td>-1.207817</td>\n",
       "    </tr>\n",
       "    <tr>\n",
       "      <th>6</th>\n",
       "      <td>-1.058326</td>\n",
       "      <td>-0.001474</td>\n",
       "    </tr>\n",
       "    <tr>\n",
       "      <th>10</th>\n",
       "      <td>-0.407246</td>\n",
       "      <td>1.028162</td>\n",
       "    </tr>\n",
       "  </tbody>\n",
       "</table>\n",
       "</div>"
      ],
      "text/plain": [
       "           3         9\n",
       "2   0.199967 -1.207817\n",
       "6  -1.058326 -0.001474\n",
       "10 -0.407246  1.028162"
      ]
     },
     "execution_count": 44,
     "metadata": {},
     "output_type": "execute_result"
    }
   ],
   "source": [
    "# select via integer list\n",
    "df1.iloc[[1,3,5], [1,3]]"
   ]
  },
  {
   "cell_type": "code",
   "execution_count": 45,
   "metadata": {},
   "outputs": [
    {
     "data": {
      "text/plain": [
       "2    0.199967\n",
       "4    1.134818\n",
       "8    0.466346\n",
       "Name: 3, dtype: float64"
      ]
     },
     "execution_count": 45,
     "metadata": {},
     "output_type": "execute_result"
    }
   ],
   "source": [
    "# selecting via integer mask \n",
    "boolean_mask = df1.iloc[:, 1] > 0.0\n",
    "df1.iloc[boolean_mask.values,1]"
   ]
  },
  {
   "cell_type": "markdown",
   "metadata": {},
   "source": [
    "# Merging DataFrames\n",
    "\n",
    "- Pandas has full-featured, very high performance, in memory join operations that are very similar to SQL and R \n",
    "\n",
    "- The documentation is https://pandas.pydata.org/pandas-docs/stable/merging.html#database-style-dataframe-joining-merging\n",
    "\n",
    "- Pandas provides a single function, merge, as the entry point for all standard database join operations between DataFrame objects: \n",
    "``` python\n",
    "pd.merge(left, right, how='inner', on=None, left_on=None, right_on=None,\n",
    "left_index=False, right_index=False, sort=True) ```\n"
   ]
  },
  {
   "cell_type": "code",
   "execution_count": 46,
   "metadata": {},
   "outputs": [
    {
     "name": "stdout",
     "output_type": "stream",
     "text": [
      "left: \n",
      "--------------------------------------------------\n",
      "   key  lval\n",
      "0  foo     4\n",
      "1  bar     2\n",
      "--------------------------------------------------\n",
      "right: \n",
      "--------------------------------------------------\n",
      "   key  rval\n",
      "0  bar     4\n",
      "1  zoo     5\n"
     ]
    }
   ],
   "source": [
    "# Example of merge\n",
    "left = pd.DataFrame({'key': ['foo', 'bar'], 'lval': [4, 2]})\n",
    "right = pd.DataFrame({'key': ['bar', 'zoo'], 'rval': [4, 5]})\n",
    "\n",
    "print(\"left: \",left,\"right: \",right, sep=end_string)"
   ]
  },
  {
   "cell_type": "code",
   "execution_count": 47,
   "metadata": {},
   "outputs": [
    {
     "name": "stdout",
     "output_type": "stream",
     "text": [
      "   key  lval  rval\n",
      "0  bar     2     4\n"
     ]
    }
   ],
   "source": [
    "merged = pd.merge(left, right)\n",
    "print(merged)"
   ]
  },
  {
   "cell_type": "code",
   "execution_count": 48,
   "metadata": {},
   "outputs": [
    {
     "name": "stdout",
     "output_type": "stream",
     "text": [
      "   key  lval  rval\n",
      "0  foo   4.0   NaN\n",
      "1  bar   2.0   4.0\n",
      "2  zoo   NaN   5.0\n"
     ]
    }
   ],
   "source": [
    "merged = pd.merge(left, right, how=\"outer\")\n",
    "print(merged)"
   ]
  },
  {
   "cell_type": "code",
   "execution_count": 49,
   "metadata": {},
   "outputs": [
    {
     "name": "stdout",
     "output_type": "stream",
     "text": [
      "   key  lval  rval\n",
      "0  foo     4   NaN\n",
      "1  bar     2   4.0\n"
     ]
    }
   ],
   "source": [
    "merged = pd.merge(left, right, how=\"left\")\n",
    "print(merged)"
   ]
  },
  {
   "cell_type": "code",
   "execution_count": 50,
   "metadata": {},
   "outputs": [
    {
     "name": "stdout",
     "output_type": "stream",
     "text": [
      "   key  lval  rval\n",
      "0  bar   2.0     4\n",
      "1  zoo   NaN     5\n"
     ]
    }
   ],
   "source": [
    "merged = pd.merge(left, right, how=\"right\")\n",
    "print(merged)"
   ]
  },
  {
   "cell_type": "markdown",
   "metadata": {},
   "source": [
    "## Function Application\n",
    " - Row or Column-wise Function Application: Applies function along input axis of DataFrame\n",
    "```python \n",
    "df.apply(func, axis = 0) ``` \n",
    " - Elementwise: apply the function to every element in the df \n",
    " ```python \n",
    "df.applymap(func) ``` \n",
    "\n",
    "- Note, ``` applymap ``` is equivalent to the ``` map ``` function on lists. \n",
    "- Note, ``` Series ``` objects support ``` .map ``` instead of ``` applymap ```"
   ]
  },
  {
   "cell_type": "code",
   "execution_count": 51,
   "metadata": {},
   "outputs": [
    {
     "data": {
      "text/html": [
       "<div>\n",
       "<style scoped>\n",
       "    .dataframe tbody tr th:only-of-type {\n",
       "        vertical-align: middle;\n",
       "    }\n",
       "\n",
       "    .dataframe tbody tr th {\n",
       "        vertical-align: top;\n",
       "    }\n",
       "\n",
       "    .dataframe thead th {\n",
       "        text-align: right;\n",
       "    }\n",
       "</style>\n",
       "<table border=\"1\" class=\"dataframe\">\n",
       "  <thead>\n",
       "    <tr style=\"text-align: right;\">\n",
       "      <th></th>\n",
       "      <th>a</th>\n",
       "      <th>b</th>\n",
       "      <th>c</th>\n",
       "      <th>d</th>\n",
       "    </tr>\n",
       "  </thead>\n",
       "  <tbody>\n",
       "    <tr>\n",
       "      <th>0</th>\n",
       "      <td>-0.156825</td>\n",
       "      <td>-0.742173</td>\n",
       "      <td>-0.835762</td>\n",
       "      <td>0.252691</td>\n",
       "    </tr>\n",
       "    <tr>\n",
       "      <th>2</th>\n",
       "      <td>0.240152</td>\n",
       "      <td>-0.390297</td>\n",
       "      <td>-0.913613</td>\n",
       "      <td>0.285423</td>\n",
       "    </tr>\n",
       "    <tr>\n",
       "      <th>...</th>\n",
       "      <td>...</td>\n",
       "      <td>...</td>\n",
       "      <td>...</td>\n",
       "      <td>...</td>\n",
       "    </tr>\n",
       "    <tr>\n",
       "      <th>8</th>\n",
       "      <td>0.824521</td>\n",
       "      <td>0.254666</td>\n",
       "      <td>1.913693</td>\n",
       "      <td>-0.912214</td>\n",
       "    </tr>\n",
       "    <tr>\n",
       "      <th>10</th>\n",
       "      <td>1.323489</td>\n",
       "      <td>-1.851925</td>\n",
       "      <td>0.656900</td>\n",
       "      <td>-2.677382</td>\n",
       "    </tr>\n",
       "  </tbody>\n",
       "</table>\n",
       "<p>6 rows × 4 columns</p>\n",
       "</div>"
      ],
      "text/plain": [
       "           a         b         c         d\n",
       "0  -0.156825 -0.742173 -0.835762  0.252691\n",
       "2   0.240152 -0.390297 -0.913613  0.285423\n",
       "..       ...       ...       ...       ...\n",
       "8   0.824521  0.254666  1.913693 -0.912214\n",
       "10  1.323489 -1.851925  0.656900 -2.677382\n",
       "\n",
       "[6 rows x 4 columns]"
      ]
     },
     "execution_count": 51,
     "metadata": {},
     "output_type": "execute_result"
    }
   ],
   "source": [
    "## APPLY EXAMPLES\n",
    "df1 = pd.DataFrame(np.random.randn(6,4), index=list(range(0,12,2)), columns=list('abcd'))\n",
    "df1"
   ]
  },
  {
   "cell_type": "code",
   "execution_count": 52,
   "metadata": {},
   "outputs": [
    {
     "data": {
      "text/plain": [
       "a    0.600349\n",
       "b   -0.577640\n",
       "c   -0.037567\n",
       "d   -0.323921\n",
       "dtype: float64"
      ]
     },
     "execution_count": 52,
     "metadata": {},
     "output_type": "execute_result"
    }
   ],
   "source": [
    "# Apply to each column\n",
    "df1.apply(np.mean)"
   ]
  },
  {
   "cell_type": "code",
   "execution_count": 53,
   "metadata": {},
   "outputs": [
    {
     "data": {
      "text/plain": [
       "0    -0.370517\n",
       "2    -0.194584\n",
       "        ...   \n",
       "8     0.520167\n",
       "10   -0.637229\n",
       "Length: 6, dtype: float64"
      ]
     },
     "execution_count": 53,
     "metadata": {},
     "output_type": "execute_result"
    }
   ],
   "source": [
    "# Apply to each row\n",
    "df1.apply(np.mean, axis = 1)"
   ]
  },
  {
   "cell_type": "markdown",
   "metadata": {},
   "source": [
    "### Side note: lambda functions\n",
    "\n",
    "lambda functions allow you to specify a function without giving it a separate declaration.  For example, the function \n",
    "```python\n",
    "lambda x: (x - x.mean())/x.std()\n",
    "```\n",
    "is equivalent to the function\n",
    "```python\n",
    "def normalize(x):\n",
    "    return (x - x.mean())/x.std()\n",
    "```\n",
    "You'll often see lambda functions used in list comprehensions, or in methods (like `map()`, `apply()`, or `applymap()`) that take a function as input."
   ]
  },
  {
   "cell_type": "code",
   "execution_count": 54,
   "metadata": {},
   "outputs": [
    {
     "data": {
      "text/html": [
       "<div>\n",
       "<style scoped>\n",
       "    .dataframe tbody tr th:only-of-type {\n",
       "        vertical-align: middle;\n",
       "    }\n",
       "\n",
       "    .dataframe tbody tr th {\n",
       "        vertical-align: top;\n",
       "    }\n",
       "\n",
       "    .dataframe thead th {\n",
       "        text-align: right;\n",
       "    }\n",
       "</style>\n",
       "<table border=\"1\" class=\"dataframe\">\n",
       "  <thead>\n",
       "    <tr style=\"text-align: right;\">\n",
       "      <th></th>\n",
       "      <th>a</th>\n",
       "      <th>b</th>\n",
       "      <th>c</th>\n",
       "      <th>d</th>\n",
       "    </tr>\n",
       "  </thead>\n",
       "  <tbody>\n",
       "    <tr>\n",
       "      <th>0</th>\n",
       "      <td>-1.182926</td>\n",
       "      <td>-0.212435</td>\n",
       "      <td>-0.539085</td>\n",
       "      <td>0.451412</td>\n",
       "    </tr>\n",
       "    <tr>\n",
       "      <th>2</th>\n",
       "      <td>-0.562732</td>\n",
       "      <td>0.241888</td>\n",
       "      <td>-0.591664</td>\n",
       "      <td>0.477037</td>\n",
       "    </tr>\n",
       "    <tr>\n",
       "      <th>...</th>\n",
       "      <td>...</td>\n",
       "      <td>...</td>\n",
       "      <td>...</td>\n",
       "      <td>...</td>\n",
       "    </tr>\n",
       "    <tr>\n",
       "      <th>8</th>\n",
       "      <td>0.350222</td>\n",
       "      <td>1.074631</td>\n",
       "      <td>1.317843</td>\n",
       "      <td>-0.460557</td>\n",
       "    </tr>\n",
       "    <tr>\n",
       "      <th>10</th>\n",
       "      <td>1.129756</td>\n",
       "      <td>-1.645290</td>\n",
       "      <td>0.469030</td>\n",
       "      <td>-1.842454</td>\n",
       "    </tr>\n",
       "  </tbody>\n",
       "</table>\n",
       "<p>6 rows × 4 columns</p>\n",
       "</div>"
      ],
      "text/plain": [
       "           a         b         c         d\n",
       "0  -1.182926 -0.212435 -0.539085  0.451412\n",
       "2  -0.562732  0.241888 -0.591664  0.477037\n",
       "..       ...       ...       ...       ...\n",
       "8   0.350222  1.074631  1.317843 -0.460557\n",
       "10  1.129756 -1.645290  0.469030 -1.842454\n",
       "\n",
       "[6 rows x 4 columns]"
      ]
     },
     "execution_count": 54,
     "metadata": {},
     "output_type": "execute_result"
    }
   ],
   "source": [
    "# # Use lambda functions  to normalize columns\n",
    "df1 = df1.apply(lambda x: (x - x.mean())/ x.std(), axis = 0)\n",
    "df1"
   ]
  },
  {
   "cell_type": "code",
   "execution_count": 55,
   "metadata": {},
   "outputs": [
    {
     "data": {
      "text/html": [
       "<div>\n",
       "<style scoped>\n",
       "    .dataframe tbody tr th:only-of-type {\n",
       "        vertical-align: middle;\n",
       "    }\n",
       "\n",
       "    .dataframe tbody tr th {\n",
       "        vertical-align: top;\n",
       "    }\n",
       "\n",
       "    .dataframe thead th {\n",
       "        text-align: right;\n",
       "    }\n",
       "</style>\n",
       "<table border=\"1\" class=\"dataframe\">\n",
       "  <thead>\n",
       "    <tr style=\"text-align: right;\">\n",
       "      <th></th>\n",
       "      <th>A</th>\n",
       "      <th>B</th>\n",
       "      <th>C</th>\n",
       "    </tr>\n",
       "  </thead>\n",
       "  <tbody>\n",
       "    <tr>\n",
       "      <th>2000-01-01</th>\n",
       "      <td>1.323590</td>\n",
       "      <td>-0.040263</td>\n",
       "      <td>-0.095787</td>\n",
       "    </tr>\n",
       "    <tr>\n",
       "      <th>2000-01-02</th>\n",
       "      <td>0.028275</td>\n",
       "      <td>-0.973688</td>\n",
       "      <td>-0.324433</td>\n",
       "    </tr>\n",
       "    <tr>\n",
       "      <th>...</th>\n",
       "      <td>...</td>\n",
       "      <td>...</td>\n",
       "      <td>...</td>\n",
       "    </tr>\n",
       "    <tr>\n",
       "      <th>2000-01-04</th>\n",
       "      <td>1.386502</td>\n",
       "      <td>-0.737659</td>\n",
       "      <td>0.357468</td>\n",
       "    </tr>\n",
       "    <tr>\n",
       "      <th>2000-01-05</th>\n",
       "      <td>-1.819440</td>\n",
       "      <td>1.421841</td>\n",
       "      <td>0.842946</td>\n",
       "    </tr>\n",
       "  </tbody>\n",
       "</table>\n",
       "<p>5 rows × 3 columns</p>\n",
       "</div>"
      ],
      "text/plain": [
       "                   A         B         C\n",
       "2000-01-01  1.323590 -0.040263 -0.095787\n",
       "2000-01-02  0.028275 -0.973688 -0.324433\n",
       "...              ...       ...       ...\n",
       "2000-01-04  1.386502 -0.737659  0.357468\n",
       "2000-01-05 -1.819440  1.421841  0.842946\n",
       "\n",
       "[5 rows x 3 columns]"
      ]
     },
     "execution_count": 55,
     "metadata": {},
     "output_type": "execute_result"
    }
   ],
   "source": [
    "## APPLY EXAMPLES CONT\n",
    "# Create DF with 1000 rows and 3 columns filled with random entries\n",
    "tsdf = pd.DataFrame(np.random.randn(1000, 3), columns=['A', 'B', 'C'],\n",
    "                    index=pd.date_range('1/1/2000', periods=1000))\n",
    "\n",
    "tsdf.head()"
   ]
  },
  {
   "cell_type": "code",
   "execution_count": 56,
   "metadata": {},
   "outputs": [
    {
     "data": {
      "text/plain": [
       "A   2002-08-02\n",
       "B   2001-04-14\n",
       "C   2000-04-18\n",
       "dtype: datetime64[ns]"
      ]
     },
     "execution_count": 56,
     "metadata": {},
     "output_type": "execute_result"
    }
   ],
   "source": [
    "# Can get trickier, say I wanted to find where the maximum dates occured for each column of the df:\n",
    "tsdf.apply(lambda x: x.idxmax())"
   ]
  },
  {
   "cell_type": "code",
   "execution_count": 57,
   "metadata": {},
   "outputs": [
    {
     "name": "stdout",
     "output_type": "stream",
     "text": [
      "                   A         B         C\n",
      "2000-01-01  0.323590 -1.040263 -1.095787\n",
      "2000-01-02 -0.971725 -1.973688 -1.324433\n",
      "...              ...       ...       ...\n",
      "2000-01-04  0.386502 -1.737659 -0.642532\n",
      "2000-01-05 -2.819440  0.421841 -0.157054\n",
      "\n",
      "[5 rows x 3 columns]\n"
     ]
    }
   ],
   "source": [
    "## APPLYMAP EXAMPLES\n",
    "tmp = tsdf.applymap(lambda x: x - 1)\n",
    "print(tmp.head())"
   ]
  },
  {
   "cell_type": "markdown",
   "metadata": {},
   "source": [
    "# I/O Functions\n",
    "\n",
    "- There are loads of input output features. The highlights most useful to you are likely:\n",
    "    - ``` pd.read_csv ``` / ``` pd.to_csv ``` \n",
    "    - ``` pd.read_excel ``` / ``` pd.to_excel ```\n",
    "    - ``` pd.read_sql ``` / ``` pd.to_sql ```\n",
    "    - ``` pd.read_pickle ``` / ``` pd.to_pickle ```\n",
    "Documentation:\n",
    "\n",
    "* [Pandas Import-Output Functions](https://pandas.pydata.org/pandas-docs/stable/io.html)"
   ]
  },
  {
   "cell_type": "markdown",
   "metadata": {},
   "source": [
    "### Loading data from CSV\n",
    "Here are the first several lines of `iris.csv`:\n",
    "\n",
    "```\n",
    "sepal_length,sepal_width,petal_length,petal_width,name\n",
    "5.1,3.5,1.4,0.2,setosa\n",
    "4.9,3.0,1.4,0.2,setosa\n",
    "4.7,3.2,1.3,0.2,setosa\n",
    "4.6,3.1,1.5,0.2,setosa\n",
    "5.0,3.6,1.4,0.2,setosa\n",
    "5.4,3.9,1.7,0.4,setosa\n",
    "```"
   ]
  },
  {
   "cell_type": "code",
   "execution_count": 58,
   "metadata": {},
   "outputs": [
    {
     "ename": "FileNotFoundError",
     "evalue": "[Errno 2] No such file or directory: './data/iris.csv'",
     "output_type": "error",
     "traceback": [
      "\u001b[1;31m---------------------------------------------------------------------------\u001b[0m",
      "\u001b[1;31mFileNotFoundError\u001b[0m                         Traceback (most recent call last)",
      "\u001b[1;32m<ipython-input-58-9d75ed193ed2>\u001b[0m in \u001b[0;36m<module>\u001b[1;34m\u001b[0m\n\u001b[0;32m      1\u001b[0m \u001b[1;32mimport\u001b[0m \u001b[0mpandas\u001b[0m \u001b[1;32mas\u001b[0m \u001b[0mpd\u001b[0m\u001b[1;33m\u001b[0m\u001b[1;33m\u001b[0m\u001b[0m\n\u001b[0;32m      2\u001b[0m \u001b[1;31m# Can use df.info to find out information about the df\u001b[0m\u001b[1;33m\u001b[0m\u001b[1;33m\u001b[0m\u001b[1;33m\u001b[0m\u001b[0m\n\u001b[1;32m----> 3\u001b[1;33m \u001b[0mdata\u001b[0m \u001b[1;33m=\u001b[0m \u001b[0mpd\u001b[0m\u001b[1;33m.\u001b[0m\u001b[0mread_csv\u001b[0m\u001b[1;33m(\u001b[0m\u001b[1;34m'./data/iris.csv'\u001b[0m\u001b[1;33m)\u001b[0m\u001b[1;33m\u001b[0m\u001b[1;33m\u001b[0m\u001b[0m\n\u001b[0m\u001b[0;32m      4\u001b[0m \u001b[0mdata\u001b[0m\u001b[1;33m.\u001b[0m\u001b[0minfo\u001b[0m\u001b[1;33m(\u001b[0m\u001b[1;33m)\u001b[0m\u001b[1;33m\u001b[0m\u001b[1;33m\u001b[0m\u001b[0m\n",
      "\u001b[1;32mc:\\python39\\lib\\site-packages\\pandas\\io\\parsers.py\u001b[0m in \u001b[0;36mread_csv\u001b[1;34m(filepath_or_buffer, sep, delimiter, header, names, index_col, usecols, squeeze, prefix, mangle_dupe_cols, dtype, engine, converters, true_values, false_values, skipinitialspace, skiprows, skipfooter, nrows, na_values, keep_default_na, na_filter, verbose, skip_blank_lines, parse_dates, infer_datetime_format, keep_date_col, date_parser, dayfirst, cache_dates, iterator, chunksize, compression, thousands, decimal, lineterminator, quotechar, quoting, doublequote, escapechar, comment, encoding, dialect, error_bad_lines, warn_bad_lines, delim_whitespace, low_memory, memory_map, float_precision, storage_options)\u001b[0m\n\u001b[0;32m    603\u001b[0m     \u001b[0mkwds\u001b[0m\u001b[1;33m.\u001b[0m\u001b[0mupdate\u001b[0m\u001b[1;33m(\u001b[0m\u001b[0mkwds_defaults\u001b[0m\u001b[1;33m)\u001b[0m\u001b[1;33m\u001b[0m\u001b[1;33m\u001b[0m\u001b[0m\n\u001b[0;32m    604\u001b[0m \u001b[1;33m\u001b[0m\u001b[0m\n\u001b[1;32m--> 605\u001b[1;33m     \u001b[1;32mreturn\u001b[0m \u001b[0m_read\u001b[0m\u001b[1;33m(\u001b[0m\u001b[0mfilepath_or_buffer\u001b[0m\u001b[1;33m,\u001b[0m \u001b[0mkwds\u001b[0m\u001b[1;33m)\u001b[0m\u001b[1;33m\u001b[0m\u001b[1;33m\u001b[0m\u001b[0m\n\u001b[0m\u001b[0;32m    606\u001b[0m \u001b[1;33m\u001b[0m\u001b[0m\n\u001b[0;32m    607\u001b[0m \u001b[1;33m\u001b[0m\u001b[0m\n",
      "\u001b[1;32mc:\\python39\\lib\\site-packages\\pandas\\io\\parsers.py\u001b[0m in \u001b[0;36m_read\u001b[1;34m(filepath_or_buffer, kwds)\u001b[0m\n\u001b[0;32m    455\u001b[0m \u001b[1;33m\u001b[0m\u001b[0m\n\u001b[0;32m    456\u001b[0m     \u001b[1;31m# Create the parser.\u001b[0m\u001b[1;33m\u001b[0m\u001b[1;33m\u001b[0m\u001b[1;33m\u001b[0m\u001b[0m\n\u001b[1;32m--> 457\u001b[1;33m     \u001b[0mparser\u001b[0m \u001b[1;33m=\u001b[0m \u001b[0mTextFileReader\u001b[0m\u001b[1;33m(\u001b[0m\u001b[0mfilepath_or_buffer\u001b[0m\u001b[1;33m,\u001b[0m \u001b[1;33m**\u001b[0m\u001b[0mkwds\u001b[0m\u001b[1;33m)\u001b[0m\u001b[1;33m\u001b[0m\u001b[1;33m\u001b[0m\u001b[0m\n\u001b[0m\u001b[0;32m    458\u001b[0m \u001b[1;33m\u001b[0m\u001b[0m\n\u001b[0;32m    459\u001b[0m     \u001b[1;32mif\u001b[0m \u001b[0mchunksize\u001b[0m \u001b[1;32mor\u001b[0m \u001b[0miterator\u001b[0m\u001b[1;33m:\u001b[0m\u001b[1;33m\u001b[0m\u001b[1;33m\u001b[0m\u001b[0m\n",
      "\u001b[1;32mc:\\python39\\lib\\site-packages\\pandas\\io\\parsers.py\u001b[0m in \u001b[0;36m__init__\u001b[1;34m(self, f, engine, **kwds)\u001b[0m\n\u001b[0;32m    812\u001b[0m             \u001b[0mself\u001b[0m\u001b[1;33m.\u001b[0m\u001b[0moptions\u001b[0m\u001b[1;33m[\u001b[0m\u001b[1;34m\"has_index_names\"\u001b[0m\u001b[1;33m]\u001b[0m \u001b[1;33m=\u001b[0m \u001b[0mkwds\u001b[0m\u001b[1;33m[\u001b[0m\u001b[1;34m\"has_index_names\"\u001b[0m\u001b[1;33m]\u001b[0m\u001b[1;33m\u001b[0m\u001b[1;33m\u001b[0m\u001b[0m\n\u001b[0;32m    813\u001b[0m \u001b[1;33m\u001b[0m\u001b[0m\n\u001b[1;32m--> 814\u001b[1;33m         \u001b[0mself\u001b[0m\u001b[1;33m.\u001b[0m\u001b[0m_engine\u001b[0m \u001b[1;33m=\u001b[0m \u001b[0mself\u001b[0m\u001b[1;33m.\u001b[0m\u001b[0m_make_engine\u001b[0m\u001b[1;33m(\u001b[0m\u001b[0mself\u001b[0m\u001b[1;33m.\u001b[0m\u001b[0mengine\u001b[0m\u001b[1;33m)\u001b[0m\u001b[1;33m\u001b[0m\u001b[1;33m\u001b[0m\u001b[0m\n\u001b[0m\u001b[0;32m    815\u001b[0m \u001b[1;33m\u001b[0m\u001b[0m\n\u001b[0;32m    816\u001b[0m     \u001b[1;32mdef\u001b[0m \u001b[0mclose\u001b[0m\u001b[1;33m(\u001b[0m\u001b[0mself\u001b[0m\u001b[1;33m)\u001b[0m\u001b[1;33m:\u001b[0m\u001b[1;33m\u001b[0m\u001b[1;33m\u001b[0m\u001b[0m\n",
      "\u001b[1;32mc:\\python39\\lib\\site-packages\\pandas\\io\\parsers.py\u001b[0m in \u001b[0;36m_make_engine\u001b[1;34m(self, engine)\u001b[0m\n\u001b[0;32m   1043\u001b[0m             )\n\u001b[0;32m   1044\u001b[0m         \u001b[1;31m# error: Too many arguments for \"ParserBase\"\u001b[0m\u001b[1;33m\u001b[0m\u001b[1;33m\u001b[0m\u001b[1;33m\u001b[0m\u001b[0m\n\u001b[1;32m-> 1045\u001b[1;33m         \u001b[1;32mreturn\u001b[0m \u001b[0mmapping\u001b[0m\u001b[1;33m[\u001b[0m\u001b[0mengine\u001b[0m\u001b[1;33m]\u001b[0m\u001b[1;33m(\u001b[0m\u001b[0mself\u001b[0m\u001b[1;33m.\u001b[0m\u001b[0mf\u001b[0m\u001b[1;33m,\u001b[0m \u001b[1;33m**\u001b[0m\u001b[0mself\u001b[0m\u001b[1;33m.\u001b[0m\u001b[0moptions\u001b[0m\u001b[1;33m)\u001b[0m  \u001b[1;31m# type: ignore[call-arg]\u001b[0m\u001b[1;33m\u001b[0m\u001b[1;33m\u001b[0m\u001b[0m\n\u001b[0m\u001b[0;32m   1046\u001b[0m \u001b[1;33m\u001b[0m\u001b[0m\n\u001b[0;32m   1047\u001b[0m     \u001b[1;32mdef\u001b[0m \u001b[0m_failover_to_python\u001b[0m\u001b[1;33m(\u001b[0m\u001b[0mself\u001b[0m\u001b[1;33m)\u001b[0m\u001b[1;33m:\u001b[0m\u001b[1;33m\u001b[0m\u001b[1;33m\u001b[0m\u001b[0m\n",
      "\u001b[1;32mc:\\python39\\lib\\site-packages\\pandas\\io\\parsers.py\u001b[0m in \u001b[0;36m__init__\u001b[1;34m(self, src, **kwds)\u001b[0m\n\u001b[0;32m   1860\u001b[0m \u001b[1;33m\u001b[0m\u001b[0m\n\u001b[0;32m   1861\u001b[0m         \u001b[1;31m# open handles\u001b[0m\u001b[1;33m\u001b[0m\u001b[1;33m\u001b[0m\u001b[1;33m\u001b[0m\u001b[0m\n\u001b[1;32m-> 1862\u001b[1;33m         \u001b[0mself\u001b[0m\u001b[1;33m.\u001b[0m\u001b[0m_open_handles\u001b[0m\u001b[1;33m(\u001b[0m\u001b[0msrc\u001b[0m\u001b[1;33m,\u001b[0m \u001b[0mkwds\u001b[0m\u001b[1;33m)\u001b[0m\u001b[1;33m\u001b[0m\u001b[1;33m\u001b[0m\u001b[0m\n\u001b[0m\u001b[0;32m   1863\u001b[0m         \u001b[1;32massert\u001b[0m \u001b[0mself\u001b[0m\u001b[1;33m.\u001b[0m\u001b[0mhandles\u001b[0m \u001b[1;32mis\u001b[0m \u001b[1;32mnot\u001b[0m \u001b[1;32mNone\u001b[0m\u001b[1;33m\u001b[0m\u001b[1;33m\u001b[0m\u001b[0m\n\u001b[0;32m   1864\u001b[0m         \u001b[1;32mfor\u001b[0m \u001b[0mkey\u001b[0m \u001b[1;32min\u001b[0m \u001b[1;33m(\u001b[0m\u001b[1;34m\"storage_options\"\u001b[0m\u001b[1;33m,\u001b[0m \u001b[1;34m\"encoding\"\u001b[0m\u001b[1;33m,\u001b[0m \u001b[1;34m\"memory_map\"\u001b[0m\u001b[1;33m,\u001b[0m \u001b[1;34m\"compression\"\u001b[0m\u001b[1;33m)\u001b[0m\u001b[1;33m:\u001b[0m\u001b[1;33m\u001b[0m\u001b[1;33m\u001b[0m\u001b[0m\n",
      "\u001b[1;32mc:\\python39\\lib\\site-packages\\pandas\\io\\parsers.py\u001b[0m in \u001b[0;36m_open_handles\u001b[1;34m(self, src, kwds)\u001b[0m\n\u001b[0;32m   1355\u001b[0m         \u001b[0mLet\u001b[0m \u001b[0mthe\u001b[0m \u001b[0mreaders\u001b[0m \u001b[0mopen\u001b[0m \u001b[0mIOHanldes\u001b[0m \u001b[0mafter\u001b[0m \u001b[0mthey\u001b[0m \u001b[0mare\u001b[0m \u001b[0mdone\u001b[0m \u001b[1;32mwith\u001b[0m \u001b[0mtheir\u001b[0m \u001b[0mpotential\u001b[0m \u001b[0mraises\u001b[0m\u001b[1;33m.\u001b[0m\u001b[1;33m\u001b[0m\u001b[1;33m\u001b[0m\u001b[0m\n\u001b[0;32m   1356\u001b[0m         \"\"\"\n\u001b[1;32m-> 1357\u001b[1;33m         self.handles = get_handle(\n\u001b[0m\u001b[0;32m   1358\u001b[0m             \u001b[0msrc\u001b[0m\u001b[1;33m,\u001b[0m\u001b[1;33m\u001b[0m\u001b[1;33m\u001b[0m\u001b[0m\n\u001b[0;32m   1359\u001b[0m             \u001b[1;34m\"r\"\u001b[0m\u001b[1;33m,\u001b[0m\u001b[1;33m\u001b[0m\u001b[1;33m\u001b[0m\u001b[0m\n",
      "\u001b[1;32mc:\\python39\\lib\\site-packages\\pandas\\io\\common.py\u001b[0m in \u001b[0;36mget_handle\u001b[1;34m(path_or_buf, mode, encoding, compression, memory_map, is_text, errors, storage_options)\u001b[0m\n\u001b[0;32m    640\u001b[0m                 \u001b[0merrors\u001b[0m \u001b[1;33m=\u001b[0m \u001b[1;34m\"replace\"\u001b[0m\u001b[1;33m\u001b[0m\u001b[1;33m\u001b[0m\u001b[0m\n\u001b[0;32m    641\u001b[0m             \u001b[1;31m# Encoding\u001b[0m\u001b[1;33m\u001b[0m\u001b[1;33m\u001b[0m\u001b[1;33m\u001b[0m\u001b[0m\n\u001b[1;32m--> 642\u001b[1;33m             handle = open(\n\u001b[0m\u001b[0;32m    643\u001b[0m                 \u001b[0mhandle\u001b[0m\u001b[1;33m,\u001b[0m\u001b[1;33m\u001b[0m\u001b[1;33m\u001b[0m\u001b[0m\n\u001b[0;32m    644\u001b[0m                 \u001b[0mioargs\u001b[0m\u001b[1;33m.\u001b[0m\u001b[0mmode\u001b[0m\u001b[1;33m,\u001b[0m\u001b[1;33m\u001b[0m\u001b[1;33m\u001b[0m\u001b[0m\n",
      "\u001b[1;31mFileNotFoundError\u001b[0m: [Errno 2] No such file or directory: './data/iris.csv'"
     ]
    }
   ],
   "source": [
    "import pandas as pd\n",
    "# Can use df.info to find out information about the df \n",
    "data = pd.read_csv('./data/iris.csv')\n",
    "data.info()"
   ]
  },
  {
   "cell_type": "code",
   "execution_count": 59,
   "metadata": {},
   "outputs": [
    {
     "ename": "AttributeError",
     "evalue": "'list' object has no attribute 'describe'",
     "output_type": "error",
     "traceback": [
      "\u001b[1;31m---------------------------------------------------------------------------\u001b[0m",
      "\u001b[1;31mAttributeError\u001b[0m                            Traceback (most recent call last)",
      "\u001b[1;32m<ipython-input-59-0c2f81da76f9>\u001b[0m in \u001b[0;36m<module>\u001b[1;34m\u001b[0m\n\u001b[0;32m      1\u001b[0m \u001b[1;31m# describe and summarize the dataframe\u001b[0m\u001b[1;33m\u001b[0m\u001b[1;33m\u001b[0m\u001b[1;33m\u001b[0m\u001b[0m\n\u001b[1;32m----> 2\u001b[1;33m \u001b[0mdata\u001b[0m\u001b[1;33m.\u001b[0m\u001b[0mdescribe\u001b[0m\u001b[1;33m(\u001b[0m\u001b[1;33m)\u001b[0m\u001b[1;33m\u001b[0m\u001b[1;33m\u001b[0m\u001b[0m\n\u001b[0m",
      "\u001b[1;31mAttributeError\u001b[0m: 'list' object has no attribute 'describe'"
     ]
    }
   ],
   "source": [
    "# describe and summarize the dataframe\n",
    "data.describe()"
   ]
  },
  {
   "cell_type": "markdown",
   "metadata": {},
   "source": [
    "## The split/apply combo (groupyby)\n",
    "- pandas objects can be split on any of their axes. The abstract definition of grouping is to provide a mapping of labels to group names:\n",
    "- Syntax:  \n",
    "    - ``` groups = df.groupby(key) ```\n",
    "    - ``` groups = df.groupby(key, axis = 1) ```\n",
    "    - ``` groups = df.groupby([key1, key2], axis = 1) ```"
   ]
  },
  {
   "cell_type": "markdown",
   "metadata": {},
   "source": [
    "### A picture\n",
    "\n",
    "- The group by concept is that we want to apply the same function on subsets of the dataframe, based on some key we use to split the DataFrame into subsets\n",
    "- This idea is referred to as the \"split-apply-combine\" operation:\n",
    "    - Split the data into groups based on some criteria\n",
    "    - Apply a function to each group independently\n",
    "    - Combine the results \n",
    "\n",
    "![image](./img/splitApplyCombine.png)"
   ]
  },
  {
   "cell_type": "code",
   "execution_count": 60,
   "metadata": {},
   "outputs": [
    {
     "data": {
      "text/html": [
       "<div>\n",
       "<style scoped>\n",
       "    .dataframe tbody tr th:only-of-type {\n",
       "        vertical-align: middle;\n",
       "    }\n",
       "\n",
       "    .dataframe tbody tr th {\n",
       "        vertical-align: top;\n",
       "    }\n",
       "\n",
       "    .dataframe thead th {\n",
       "        text-align: right;\n",
       "    }\n",
       "</style>\n",
       "<table border=\"1\" class=\"dataframe\">\n",
       "  <thead>\n",
       "    <tr style=\"text-align: right;\">\n",
       "      <th></th>\n",
       "      <th>key</th>\n",
       "      <th>data</th>\n",
       "    </tr>\n",
       "  </thead>\n",
       "  <tbody>\n",
       "    <tr>\n",
       "      <th>0</th>\n",
       "      <td>A</td>\n",
       "      <td>0</td>\n",
       "    </tr>\n",
       "    <tr>\n",
       "      <th>1</th>\n",
       "      <td>B</td>\n",
       "      <td>5</td>\n",
       "    </tr>\n",
       "    <tr>\n",
       "      <th>...</th>\n",
       "      <td>...</td>\n",
       "      <td>...</td>\n",
       "    </tr>\n",
       "    <tr>\n",
       "      <th>7</th>\n",
       "      <td>B</td>\n",
       "      <td>15</td>\n",
       "    </tr>\n",
       "    <tr>\n",
       "      <th>8</th>\n",
       "      <td>C</td>\n",
       "      <td>20</td>\n",
       "    </tr>\n",
       "  </tbody>\n",
       "</table>\n",
       "<p>9 rows × 2 columns</p>\n",
       "</div>"
      ],
      "text/plain": [
       "   key  data\n",
       "0    A     0\n",
       "1    B     5\n",
       "..  ..   ...\n",
       "7    B    15\n",
       "8    C    20\n",
       "\n",
       "[9 rows x 2 columns]"
      ]
     },
     "execution_count": 60,
     "metadata": {},
     "output_type": "execute_result"
    }
   ],
   "source": [
    "df = pd.DataFrame({'key':['A','B','C','A','B','C','A','B','C'],\n",
    "                   'data': [0, 5, 10, 5, 10, 15, 10, 15, 20]})\n",
    "df"
   ]
  },
  {
   "cell_type": "code",
   "execution_count": 61,
   "metadata": {},
   "outputs": [
    {
     "data": {
      "text/html": [
       "<div>\n",
       "<style scoped>\n",
       "    .dataframe tbody tr th:only-of-type {\n",
       "        vertical-align: middle;\n",
       "    }\n",
       "\n",
       "    .dataframe tbody tr th {\n",
       "        vertical-align: top;\n",
       "    }\n",
       "\n",
       "    .dataframe thead th {\n",
       "        text-align: right;\n",
       "    }\n",
       "</style>\n",
       "<table border=\"1\" class=\"dataframe\">\n",
       "  <thead>\n",
       "    <tr style=\"text-align: right;\">\n",
       "      <th></th>\n",
       "      <th>data</th>\n",
       "    </tr>\n",
       "    <tr>\n",
       "      <th>key</th>\n",
       "      <th></th>\n",
       "    </tr>\n",
       "  </thead>\n",
       "  <tbody>\n",
       "    <tr>\n",
       "      <th>A</th>\n",
       "      <td>15</td>\n",
       "    </tr>\n",
       "    <tr>\n",
       "      <th>B</th>\n",
       "      <td>30</td>\n",
       "    </tr>\n",
       "    <tr>\n",
       "      <th>C</th>\n",
       "      <td>45</td>\n",
       "    </tr>\n",
       "  </tbody>\n",
       "</table>\n",
       "</div>"
      ],
      "text/plain": [
       "     data\n",
       "key      \n",
       "A      15\n",
       "B      30\n",
       "C      45"
      ]
     },
     "execution_count": 61,
     "metadata": {},
     "output_type": "execute_result"
    }
   ],
   "source": [
    "groupby_key = df.groupby('key')\n",
    "\n",
    "sums = groupby_key.aggregate(np.sum)\n",
    "sums"
   ]
  },
  {
   "cell_type": "markdown",
   "metadata": {},
   "source": [
    "# Plotting data\n",
    "\n",
    "- The plot method on Series and DataFrame is just a wrapper on matplotlib plt.plot()\n",
    "- Many available plots:\n",
    "    - ‘bar’ or ‘barh’ for bar plots\n",
    "    - ‘hist’ for histogram\n",
    "    - ‘box’ for boxplot\n",
    "    - ‘kde’ or 'density' for density plots • ‘area’ for area plots\n",
    "    - ‘scatter’ for scatter plots\n",
    "    - ‘hexbin’ for hexagonal bin plots • ‘pie’ for pie plots\n",
    "    \n",
    "- There are several more complex plotting functions in pandas.tools.plotting that take a Series or DataFrame as an argument. These include:\n",
    "    - Scatter matrices\n",
    "    - Andrews Curves\n",
    "    - Autocorrelation\n",
    "    - Bootstrap Plot"
   ]
  },
  {
   "cell_type": "code",
   "execution_count": null,
   "metadata": {},
   "outputs": [],
   "source": [
    "import matplotlib.pyplot as plt"
   ]
  },
  {
   "cell_type": "code",
   "execution_count": null,
   "metadata": {},
   "outputs": [],
   "source": [
    "data.plot();"
   ]
  },
  {
   "cell_type": "code",
   "execution_count": null,
   "metadata": {},
   "outputs": [],
   "source": [
    "## Quick example - Random walks\n",
    "df = pd.DataFrame(np.random.randn(1000, 4), index =pd.date_range('1/1/2000', periods=1000), columns=list('ABCD'))\n",
    "df = df.cumsum()\n",
    "df.plot()\n",
    "plt.show()"
   ]
  },
  {
   "cell_type": "code",
   "execution_count": null,
   "metadata": {},
   "outputs": [],
   "source": [
    "plt.figure()\n",
    "df.iloc[5].plot(kind = 'bar')\n",
    "plt.axhline(0, color = 'k')"
   ]
  },
  {
   "cell_type": "code",
   "execution_count": null,
   "metadata": {},
   "outputs": [],
   "source": [
    "data = pd.read_csv('./data/iris.csv')\n",
    "ax = data.groupby('name') \\\n",
    "         .get_group('setosa') \\\n",
    "         .boxplot(column=[\"sepal_length\",\"sepal_width\"], return_type='axes')"
   ]
  },
  {
   "cell_type": "markdown",
   "metadata": {},
   "source": [
    "# Exercise\n",
    "\n",
    "Work through the supplement notebook, posted online."
   ]
  },
  {
   "cell_type": "code",
   "execution_count": null,
   "metadata": {},
   "outputs": [],
   "source": []
  }
 ],
 "metadata": {
  "kernelspec": {
   "display_name": "Python 3",
   "language": "python",
   "name": "python3"
  },
  "language_info": {
   "codemirror_mode": {
    "name": "ipython",
    "version": 3
   },
   "file_extension": ".py",
   "mimetype": "text/x-python",
   "name": "python",
   "nbconvert_exporter": "python",
   "pygments_lexer": "ipython3",
   "version": "3.9.0"
  }
 },
 "nbformat": 4,
 "nbformat_minor": 2
}
